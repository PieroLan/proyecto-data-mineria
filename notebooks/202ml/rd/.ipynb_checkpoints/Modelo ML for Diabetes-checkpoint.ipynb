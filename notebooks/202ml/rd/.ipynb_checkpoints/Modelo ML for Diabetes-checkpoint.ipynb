{
 "cells": [
  {
   "cell_type": "code",
   "execution_count": 1,
   "metadata": {},
   "outputs": [],
   "source": [
    "import numpy as np\n",
    "import pandas as pd\n",
    "import matplotlib.pyplot as plt\n",
    "import seaborn as sns\n"
   ]
  },
  {
   "cell_type": "markdown",
   "metadata": {},
   "source": [
    "Carga de datos"
   ]
  },
  {
   "cell_type": "code",
   "execution_count": 4,
   "metadata": {},
   "outputs": [
    {
     "name": "stdout",
     "output_type": "stream",
     "text": [
      "dfo Shape: (115, 4)\n"
     ]
    },
    {
     "data": {
      "text/html": [
       "<div>\n",
       "<style scoped>\n",
       "    .dataframe tbody tr th:only-of-type {\n",
       "        vertical-align: middle;\n",
       "    }\n",
       "\n",
       "    .dataframe tbody tr th {\n",
       "        vertical-align: top;\n",
       "    }\n",
       "\n",
       "    .dataframe thead th {\n",
       "        text-align: right;\n",
       "    }\n",
       "</style>\n",
       "<table border=\"1\" class=\"dataframe\">\n",
       "  <thead>\n",
       "    <tr style=\"text-align: right;\">\n",
       "      <th></th>\n",
       "      <th>glucosa</th>\n",
       "      <th>insulina</th>\n",
       "      <th>sspg</th>\n",
       "      <th>clase</th>\n",
       "    </tr>\n",
       "  </thead>\n",
       "  <tbody>\n",
       "    <tr>\n",
       "      <th>0</th>\n",
       "      <td>97</td>\n",
       "      <td>289</td>\n",
       "      <td>117</td>\n",
       "      <td>normal</td>\n",
       "    </tr>\n",
       "    <tr>\n",
       "      <th>1</th>\n",
       "      <td>105</td>\n",
       "      <td>319</td>\n",
       "      <td>143</td>\n",
       "      <td>normal</td>\n",
       "    </tr>\n",
       "    <tr>\n",
       "      <th>2</th>\n",
       "      <td>90</td>\n",
       "      <td>356</td>\n",
       "      <td>199</td>\n",
       "      <td>normal</td>\n",
       "    </tr>\n",
       "  </tbody>\n",
       "</table>\n",
       "</div>"
      ],
      "text/plain": [
       "   glucosa  insulina  sspg   clase\n",
       "0       97       289   117  normal\n",
       "1      105       319   143  normal\n",
       "2       90       356   199  normal"
      ]
     },
     "execution_count": 4,
     "metadata": {},
     "output_type": "execute_result"
    }
   ],
   "source": [
    "missing_values = ['NA','na','--','?','-','None','none','non','nil','NaN']\n",
    "#fn = pd.read_excel('data_plagas_arroz_neg.xlsx',sheet_name='Sheet1', na_values=missing_values, encoding = \"ISO-8859-1\") .\n",
    "dfo = pd.read_csv('diabetes_python.csv', na_values=missing_values, encoding = \"ISO-8859-1\", sep=';') \n",
    "print('dfo Shape:',dfo.shape)\n",
    "#dfo.head()\n",
    "dfo.head(3)\n",
    "#dfo.columns"
   ]
  },
  {
   "cell_type": "code",
   "execution_count": 5,
   "metadata": {},
   "outputs": [
    {
     "data": {
      "text/plain": [
       "Index(['glucosa', 'insulina', 'sspg', 'clase'], dtype='object')"
      ]
     },
     "execution_count": 5,
     "metadata": {},
     "output_type": "execute_result"
    }
   ],
   "source": [
    "dfo.columns"
   ]
  },
  {
   "cell_type": "code",
   "execution_count": 6,
   "metadata": {},
   "outputs": [],
   "source": [
    "cols = ['glucosa', 'insulina', 'sspg', 'clase']"
   ]
  },
  {
   "cell_type": "code",
   "execution_count": 8,
   "metadata": {},
   "outputs": [
    {
     "data": {
      "text/plain": [
       "<matplotlib.axes._subplots.AxesSubplot at 0x7f657b16d460>"
      ]
     },
     "execution_count": 8,
     "metadata": {},
     "output_type": "execute_result"
    },
    {
     "data": {
      "image/png": "[encoded data removed]",
      "text/plain": [
       "<Figure size 432x288 with 1 Axes>"
      ]
     },
     "metadata": {
      "needs_background": "light"
     },
     "output_type": "display_data"
    }
   ],
   "source": [
    "sns.heatmap(dfo[cols].isnull(), \n",
    "            yticklabels=False, \n",
    "            cbar=False, \n",
    "            cmap='viridis')"
   ]
  },
  {
   "cell_type": "code",
   "execution_count": 9,
   "metadata": {},
   "outputs": [
    {
     "data": {
      "text/plain": [
       "False"
      ]
     },
     "execution_count": 9,
     "metadata": {},
     "output_type": "execute_result"
    }
   ],
   "source": [
    "# Controlando valores nulos\n",
    "dfo[cols].isnull().any().any()"
   ]
  },
  {
   "cell_type": "code",
   "execution_count": 10,
   "metadata": {},
   "outputs": [
    {
     "data": {
      "text/plain": [
       "glucosa     0.0\n",
       "insulina    0.0\n",
       "sspg        0.0\n",
       "clase       0.0\n",
       "dtype: float64"
      ]
     },
     "execution_count": 10,
     "metadata": {},
     "output_type": "execute_result"
    }
   ],
   "source": [
    "#porcentaje de valores null por columna\n",
    "(dfo[cols].isnull().sum() / len(dfo[cols]))*100"
   ]
  },
  {
   "cell_type": "code",
   "execution_count": 11,
   "metadata": {},
   "outputs": [
    {
     "name": "stdout",
     "output_type": "stream",
     "text": [
      "normal           66\n",
      "pre-diabetico    26\n",
      "diabetico        23\n",
      "Name: clase, dtype: int64\n"
     ]
    }
   ],
   "source": [
    "print(pd.value_counts(dfo[cols]['clase'], sort = True))"
   ]
  },
  {
   "cell_type": "code",
   "execution_count": 12,
   "metadata": {},
   "outputs": [],
   "source": [
    "df=dfo[cols]"
   ]
  },
  {
   "cell_type": "code",
   "execution_count": 14,
   "metadata": {},
   "outputs": [
    {
     "name": "stdout",
     "output_type": "stream",
     "text": [
      "0    66\n",
      "1    26\n",
      "2    23\n",
      "Name: clase_i, dtype: int64\n"
     ]
    }
   ],
   "source": [
    "#indexar\n",
    "def substitute_clase(a2):\n",
    "    mapping={'normal':0, 'pre-diabetico':1, 'diabetico':2}\n",
    "    a2['clase_i']=a2['clase'].map(mapping)\n",
    "    return a2\n",
    "df.pipe(substitute_clase)\n",
    "print(pd.value_counts(df['clase_i'], sort = True))"
   ]
  },
  {
   "cell_type": "code",
   "execution_count": 15,
   "metadata": {},
   "outputs": [
    {
     "data": {
      "text/html": [
       "<div>\n",
       "<style scoped>\n",
       "    .dataframe tbody tr th:only-of-type {\n",
       "        vertical-align: middle;\n",
       "    }\n",
       "\n",
       "    .dataframe tbody tr th {\n",
       "        vertical-align: top;\n",
       "    }\n",
       "\n",
       "    .dataframe thead th {\n",
       "        text-align: right;\n",
       "    }\n",
       "</style>\n",
       "<table border=\"1\" class=\"dataframe\">\n",
       "  <thead>\n",
       "    <tr style=\"text-align: right;\">\n",
       "      <th></th>\n",
       "      <th>glucosa</th>\n",
       "      <th>insulina</th>\n",
       "      <th>sspg</th>\n",
       "      <th>clase</th>\n",
       "      <th>clase_i</th>\n",
       "    </tr>\n",
       "  </thead>\n",
       "  <tbody>\n",
       "    <tr>\n",
       "      <th>0</th>\n",
       "      <td>97</td>\n",
       "      <td>289</td>\n",
       "      <td>117</td>\n",
       "      <td>normal</td>\n",
       "      <td>0</td>\n",
       "    </tr>\n",
       "    <tr>\n",
       "      <th>1</th>\n",
       "      <td>105</td>\n",
       "      <td>319</td>\n",
       "      <td>143</td>\n",
       "      <td>normal</td>\n",
       "      <td>0</td>\n",
       "    </tr>\n",
       "    <tr>\n",
       "      <th>2</th>\n",
       "      <td>90</td>\n",
       "      <td>356</td>\n",
       "      <td>199</td>\n",
       "      <td>normal</td>\n",
       "      <td>0</td>\n",
       "    </tr>\n",
       "    <tr>\n",
       "      <th>3</th>\n",
       "      <td>90</td>\n",
       "      <td>323</td>\n",
       "      <td>240</td>\n",
       "      <td>normal</td>\n",
       "      <td>0</td>\n",
       "    </tr>\n",
       "    <tr>\n",
       "      <th>4</th>\n",
       "      <td>86</td>\n",
       "      <td>381</td>\n",
       "      <td>157</td>\n",
       "      <td>normal</td>\n",
       "      <td>0</td>\n",
       "    </tr>\n",
       "    <tr>\n",
       "      <th>...</th>\n",
       "      <td>...</td>\n",
       "      <td>...</td>\n",
       "      <td>...</td>\n",
       "      <td>...</td>\n",
       "      <td>...</td>\n",
       "    </tr>\n",
       "    <tr>\n",
       "      <th>110</th>\n",
       "      <td>120</td>\n",
       "      <td>636</td>\n",
       "      <td>314</td>\n",
       "      <td>diabetico</td>\n",
       "      <td>2</td>\n",
       "    </tr>\n",
       "    <tr>\n",
       "      <th>111</th>\n",
       "      <td>138</td>\n",
       "      <td>741</td>\n",
       "      <td>219</td>\n",
       "      <td>diabetico</td>\n",
       "      <td>2</td>\n",
       "    </tr>\n",
       "    <tr>\n",
       "      <th>112</th>\n",
       "      <td>188</td>\n",
       "      <td>958</td>\n",
       "      <td>100</td>\n",
       "      <td>diabetico</td>\n",
       "      <td>2</td>\n",
       "    </tr>\n",
       "    <tr>\n",
       "      <th>113</th>\n",
       "      <td>339</td>\n",
       "      <td>1354</td>\n",
       "      <td>10</td>\n",
       "      <td>diabetico</td>\n",
       "      <td>2</td>\n",
       "    </tr>\n",
       "    <tr>\n",
       "      <th>114</th>\n",
       "      <td>213</td>\n",
       "      <td>1025</td>\n",
       "      <td>29</td>\n",
       "      <td>diabetico</td>\n",
       "      <td>2</td>\n",
       "    </tr>\n",
       "  </tbody>\n",
       "</table>\n",
       "<p>115 rows × 5 columns</p>\n",
       "</div>"
      ],
      "text/plain": [
       "     glucosa  insulina  sspg      clase  clase_i\n",
       "0         97       289   117     normal        0\n",
       "1        105       319   143     normal        0\n",
       "2         90       356   199     normal        0\n",
       "3         90       323   240     normal        0\n",
       "4         86       381   157     normal        0\n",
       "..       ...       ...   ...        ...      ...\n",
       "110      120       636   314  diabetico        2\n",
       "111      138       741   219  diabetico        2\n",
       "112      188       958   100  diabetico        2\n",
       "113      339      1354    10  diabetico        2\n",
       "114      213      1025    29  diabetico        2\n",
       "\n",
       "[115 rows x 5 columns]"
      ]
     },
     "execution_count": 15,
     "metadata": {},
     "output_type": "execute_result"
    }
   ],
   "source": [
    "df"
   ]
  },
  {
   "cell_type": "code",
   "execution_count": null,
   "metadata": {},
   "outputs": [],
   "source": [
    "Observar las relaciones mediante una matriz de correlaciones."
   ]
  },
  {
   "cell_type": "code",
   "execution_count": 16,
   "metadata": {},
   "outputs": [
    {
     "data": {
      "text/html": [
       "<div>\n",
       "<style scoped>\n",
       "    .dataframe tbody tr th:only-of-type {\n",
       "        vertical-align: middle;\n",
       "    }\n",
       "\n",
       "    .dataframe tbody tr th {\n",
       "        vertical-align: top;\n",
       "    }\n",
       "\n",
       "    .dataframe thead th {\n",
       "        text-align: right;\n",
       "    }\n",
       "</style>\n",
       "<table border=\"1\" class=\"dataframe\">\n",
       "  <thead>\n",
       "    <tr style=\"text-align: right;\">\n",
       "      <th></th>\n",
       "      <th>glucosa</th>\n",
       "      <th>insulina</th>\n",
       "      <th>sspg</th>\n",
       "      <th>clase_i</th>\n",
       "    </tr>\n",
       "  </thead>\n",
       "  <tbody>\n",
       "    <tr>\n",
       "      <th>0</th>\n",
       "      <td>97</td>\n",
       "      <td>289</td>\n",
       "      <td>117</td>\n",
       "      <td>0</td>\n",
       "    </tr>\n",
       "    <tr>\n",
       "      <th>1</th>\n",
       "      <td>105</td>\n",
       "      <td>319</td>\n",
       "      <td>143</td>\n",
       "      <td>0</td>\n",
       "    </tr>\n",
       "    <tr>\n",
       "      <th>2</th>\n",
       "      <td>90</td>\n",
       "      <td>356</td>\n",
       "      <td>199</td>\n",
       "      <td>0</td>\n",
       "    </tr>\n",
       "    <tr>\n",
       "      <th>3</th>\n",
       "      <td>90</td>\n",
       "      <td>323</td>\n",
       "      <td>240</td>\n",
       "      <td>0</td>\n",
       "    </tr>\n",
       "    <tr>\n",
       "      <th>4</th>\n",
       "      <td>86</td>\n",
       "      <td>381</td>\n",
       "      <td>157</td>\n",
       "      <td>0</td>\n",
       "    </tr>\n",
       "    <tr>\n",
       "      <th>...</th>\n",
       "      <td>...</td>\n",
       "      <td>...</td>\n",
       "      <td>...</td>\n",
       "      <td>...</td>\n",
       "    </tr>\n",
       "    <tr>\n",
       "      <th>110</th>\n",
       "      <td>120</td>\n",
       "      <td>636</td>\n",
       "      <td>314</td>\n",
       "      <td>2</td>\n",
       "    </tr>\n",
       "    <tr>\n",
       "      <th>111</th>\n",
       "      <td>138</td>\n",
       "      <td>741</td>\n",
       "      <td>219</td>\n",
       "      <td>2</td>\n",
       "    </tr>\n",
       "    <tr>\n",
       "      <th>112</th>\n",
       "      <td>188</td>\n",
       "      <td>958</td>\n",
       "      <td>100</td>\n",
       "      <td>2</td>\n",
       "    </tr>\n",
       "    <tr>\n",
       "      <th>113</th>\n",
       "      <td>339</td>\n",
       "      <td>1354</td>\n",
       "      <td>10</td>\n",
       "      <td>2</td>\n",
       "    </tr>\n",
       "    <tr>\n",
       "      <th>114</th>\n",
       "      <td>213</td>\n",
       "      <td>1025</td>\n",
       "      <td>29</td>\n",
       "      <td>2</td>\n",
       "    </tr>\n",
       "  </tbody>\n",
       "</table>\n",
       "<p>115 rows × 4 columns</p>\n",
       "</div>"
      ],
      "text/plain": [
       "     glucosa  insulina  sspg  clase_i\n",
       "0         97       289   117        0\n",
       "1        105       319   143        0\n",
       "2         90       356   199        0\n",
       "3         90       323   240        0\n",
       "4         86       381   157        0\n",
       "..       ...       ...   ...      ...\n",
       "110      120       636   314        2\n",
       "111      138       741   219        2\n",
       "112      188       958   100        2\n",
       "113      339      1354    10        2\n",
       "114      213      1025    29        2\n",
       "\n",
       "[115 rows x 4 columns]"
      ]
     },
     "execution_count": 16,
     "metadata": {},
     "output_type": "execute_result"
    }
   ],
   "source": [
    "cols_f = ['glucosa', 'insulina', 'sspg', 'clase_i']\n",
    "df[cols_f]"
   ]
  },
  {
   "cell_type": "code",
   "execution_count": 17,
   "metadata": {},
   "outputs": [
    {
     "data": {
      "text/plain": [
       "clase_i     1.000000\n",
       "insulina    0.833399\n",
       "glucosa     0.728553\n",
       "sspg       -0.052124\n",
       "Name: clase_i, dtype: float64"
      ]
     },
     "execution_count": 17,
     "metadata": {},
     "output_type": "execute_result"
    }
   ],
   "source": [
    "df[cols_f].corr()['clase_i'].sort_values(ascending=False)"
   ]
  },
  {
   "cell_type": "code",
   "execution_count": 19,
   "metadata": {},
   "outputs": [
    {
     "data": {
      "text/html": [
       "<div>\n",
       "<style scoped>\n",
       "    .dataframe tbody tr th:only-of-type {\n",
       "        vertical-align: middle;\n",
       "    }\n",
       "\n",
       "    .dataframe tbody tr th {\n",
       "        vertical-align: top;\n",
       "    }\n",
       "\n",
       "    .dataframe thead th {\n",
       "        text-align: right;\n",
       "    }\n",
       "</style>\n",
       "<table border=\"1\" class=\"dataframe\">\n",
       "  <thead>\n",
       "    <tr style=\"text-align: right;\">\n",
       "      <th></th>\n",
       "      <th>glucosa</th>\n",
       "      <th>insulina</th>\n",
       "      <th>clase_i</th>\n",
       "    </tr>\n",
       "  </thead>\n",
       "  <tbody>\n",
       "    <tr>\n",
       "      <th>0</th>\n",
       "      <td>97</td>\n",
       "      <td>289</td>\n",
       "      <td>0</td>\n",
       "    </tr>\n",
       "    <tr>\n",
       "      <th>1</th>\n",
       "      <td>105</td>\n",
       "      <td>319</td>\n",
       "      <td>0</td>\n",
       "    </tr>\n",
       "    <tr>\n",
       "      <th>2</th>\n",
       "      <td>90</td>\n",
       "      <td>356</td>\n",
       "      <td>0</td>\n",
       "    </tr>\n",
       "    <tr>\n",
       "      <th>3</th>\n",
       "      <td>90</td>\n",
       "      <td>323</td>\n",
       "      <td>0</td>\n",
       "    </tr>\n",
       "    <tr>\n",
       "      <th>4</th>\n",
       "      <td>86</td>\n",
       "      <td>381</td>\n",
       "      <td>0</td>\n",
       "    </tr>\n",
       "  </tbody>\n",
       "</table>\n",
       "</div>"
      ],
      "text/plain": [
       "   glucosa  insulina  clase_i\n",
       "0       97       289        0\n",
       "1      105       319        0\n",
       "2       90       356        0\n",
       "3       90       323        0\n",
       "4       86       381        0"
      ]
     },
     "execution_count": 19,
     "metadata": {},
     "output_type": "execute_result"
    }
   ],
   "source": [
    "df_f =df[['glucosa', 'insulina', 'clase_i']]\n",
    "df_f.head()"
   ]
  },
  {
   "cell_type": "code",
   "execution_count": 20,
   "metadata": {},
   "outputs": [
    {
     "data": {
      "image/png": "[encoded data removed]",
      "text/plain": [
       "<Figure size 540x540 with 12 Axes>"
      ]
     },
     "metadata": {
      "needs_background": "light"
     },
     "output_type": "display_data"
    }
   ],
   "source": [
    "sns.pairplot(df_f, height=2.5)\n",
    "plt.tight_layout()\n",
    "# plt.savefig('imagenes/10_03.png', dpi=300)\n",
    "plt.show()"
   ]
  },
  {
   "cell_type": "code",
   "execution_count": 21,
   "metadata": {},
   "outputs": [
    {
     "data": {
      "image/png": "[encoded data removed]",
      "text/plain": [
       "<Figure size 432x288 with 2 Axes>"
      ]
     },
     "metadata": {
      "needs_background": "light"
     },
     "output_type": "display_data"
    }
   ],
   "source": [
    "cm = np.corrcoef(df_f.values.T)\n",
    "#sns.set(font_scale=1.5)\n",
    "hm = sns.heatmap(cm,\n",
    "                 cbar=True,\n",
    "                 annot=True,\n",
    "                 square=True,\n",
    "                 fmt='.2f',\n",
    "                 annot_kws={'size': 15},\n",
    "                 yticklabels=cols,\n",
    "                 xticklabels=cols)\n",
    "\n",
    "plt.tight_layout()\n",
    "#plt.savefig('imagenes/10_04.png', dpi=300)\n",
    "plt.show()"
   ]
  },
  {
   "cell_type": "code",
   "execution_count": 22,
   "metadata": {},
   "outputs": [],
   "source": [
    "from sklearn.model_selection import train_test_split"
   ]
  },
  {
   "cell_type": "code",
   "execution_count": 23,
   "metadata": {},
   "outputs": [],
   "source": [
    "X = df_f.iloc[:, :-1].values\n",
    "y = df_f['clase_i'].values"
   ]
  },
  {
   "cell_type": "code",
   "execution_count": 24,
   "metadata": {},
   "outputs": [
    {
     "data": {
      "text/plain": [
       "array([[  97,  289],\n",
       "       [ 105,  319],\n",
       "       [  90,  356],\n",
       "       [  90,  323],\n",
       "       [  86,  381],\n",
       "       [ 100,  350],\n",
       "       [  85,  301],\n",
       "       [  97,  379],\n",
       "       [  97,  296],\n",
       "       [  91,  353],\n",
       "       [  87,  306],\n",
       "       [  78,  290],\n",
       "       [  90,  371],\n",
       "       [  80,  393],\n",
       "       [  90,  364],\n",
       "       [  99,  359],\n",
       "       [  85,  296],\n",
       "       [  90,  345],\n",
       "       [  90,  378],\n",
       "       [  88,  304],\n",
       "       [  90,  327],\n",
       "       [  92,  386],\n",
       "       [  98,  365],\n",
       "       [ 100,  352],\n",
       "       [  86,  325],\n",
       "       [  98,  321],\n",
       "       [  70,  360],\n",
       "       [  99,  336],\n",
       "       [  75,  352],\n",
       "       [  90,  353],\n",
       "       [  85,  373],\n",
       "       [  99,  376],\n",
       "       [ 100,  367],\n",
       "       [  78,  335],\n",
       "       [ 106,  396],\n",
       "       [ 102,  378],\n",
       "       [  90,  360],\n",
       "       [  94,  291],\n",
       "       [  80,  269],\n",
       "       [  93,  318],\n",
       "       [  96,  356],\n",
       "       [  88,  291],\n",
       "       [  94,  313],\n",
       "       [  93,  306],\n",
       "       [  86,  319],\n",
       "       [  96,  332],\n",
       "       [  86,  323],\n",
       "       [  89,  323],\n",
       "       [  83,  351],\n",
       "       [  98,  478],\n",
       "       [ 100,  398],\n",
       "       [ 110,  426],\n",
       "       [  88,  439],\n",
       "       [  80,  333],\n",
       "       [  91,  436],\n",
       "       [  96,  418],\n",
       "       [  95,  391],\n",
       "       [  84,  416],\n",
       "       [ 100,  385],\n",
       "       [  86,  393],\n",
       "       [  93,  376],\n",
       "       [ 107,  403],\n",
       "       [ 112,  414],\n",
       "       [  94,  426],\n",
       "       [  93,  364],\n",
       "       [  93,  391],\n",
       "       [  90,  356],\n",
       "       [  99,  398],\n",
       "       [  93,  393],\n",
       "       [  85,  425],\n",
       "       [  89,  318],\n",
       "       [ 111,  558],\n",
       "       [ 114,  540],\n",
       "       [ 101,  469],\n",
       "       [ 112,  568],\n",
       "       [ 105,  527],\n",
       "       [ 103,  537],\n",
       "       [  99,  466],\n",
       "       [ 102,  599],\n",
       "       [  96,  456],\n",
       "       [  95,  517],\n",
       "       [ 110,  522],\n",
       "       [  92,  476],\n",
       "       [ 104,  472],\n",
       "       [  92,  442],\n",
       "       [  92,  541],\n",
       "       [  92,  580],\n",
       "       [  93,  472],\n",
       "       [ 112,  562],\n",
       "       [  88,  423],\n",
       "       [ 114,  643],\n",
       "       [ 103,  533],\n",
       "       [ 303, 1487],\n",
       "       [ 125,  714],\n",
       "       [ 280, 1470],\n",
       "       [ 216, 1113],\n",
       "       [ 190,  972],\n",
       "       [ 303, 1364],\n",
       "       [ 173,  832],\n",
       "       [ 203,  967],\n",
       "       [ 140,  613],\n",
       "       [ 275, 1373],\n",
       "       [ 260, 1133],\n",
       "       [ 233, 1183],\n",
       "       [ 146,  847],\n",
       "       [ 124,  538],\n",
       "       [ 213, 1001],\n",
       "       [ 330, 1520],\n",
       "       [ 123,  557],\n",
       "       [ 130,  670],\n",
       "       [ 120,  636],\n",
       "       [ 138,  741],\n",
       "       [ 188,  958],\n",
       "       [ 339, 1354],\n",
       "       [ 213, 1025]])"
      ]
     },
     "execution_count": 24,
     "metadata": {},
     "output_type": "execute_result"
    }
   ],
   "source": [
    "X"
   ]
  },
  {
   "cell_type": "code",
   "execution_count": 25,
   "metadata": {},
   "outputs": [
    {
     "data": {
      "text/plain": [
       "array([0, 0, 0, 0, 0, 0, 0, 0, 0, 0, 0, 0, 0, 0, 0, 0, 0, 0, 0, 0, 0, 0,\n",
       "       0, 0, 0, 0, 0, 0, 0, 0, 0, 0, 0, 0, 0, 0, 0, 0, 0, 0, 0, 0, 0, 0,\n",
       "       0, 0, 0, 0, 0, 1, 0, 0, 1, 0, 1, 0, 0, 0, 0, 0, 0, 0, 0, 1, 0, 0,\n",
       "       0, 0, 0, 1, 0, 1, 1, 1, 1, 1, 1, 1, 1, 1, 1, 1, 1, 1, 1, 1, 1, 1,\n",
       "       1, 1, 1, 1, 2, 2, 2, 2, 2, 2, 2, 2, 2, 2, 2, 2, 2, 2, 2, 2, 2, 2,\n",
       "       2, 2, 2, 2, 2])"
      ]
     },
     "execution_count": 25,
     "metadata": {},
     "output_type": "execute_result"
    }
   ],
   "source": [
    "y"
   ]
  },
  {
   "cell_type": "code",
   "execution_count": 26,
   "metadata": {},
   "outputs": [],
   "source": [
    "X_train, X_test, y_train, y_test = train_test_split(X, y, test_size=0.3, random_state=0)"
   ]
  },
  {
   "cell_type": "code",
   "execution_count": 27,
   "metadata": {},
   "outputs": [],
   "source": [
    "import scipy"
   ]
  },
  {
   "cell_type": "code",
   "execution_count": 28,
   "metadata": {},
   "outputs": [
    {
     "data": {
      "text/plain": [
       "ShapiroResult(statistic=0.7173466682434082, pvalue=4.087480354186823e-11)"
      ]
     },
     "execution_count": 28,
     "metadata": {},
     "output_type": "execute_result"
    }
   ],
   "source": [
    "scipy.stats.shapiro(y_train)"
   ]
  },
  {
   "cell_type": "code",
   "execution_count": 31,
   "metadata": {},
   "outputs": [],
   "source": [
    "from numpy import array\n",
    "from sklearn.linear_model import LogisticRegression\n",
    "from sklearn.discriminant_analysis import LinearDiscriminantAnalysis\n",
    "from sklearn.svm import SVC\n",
    "from sklearn.linear_model import SGDClassifier\n",
    "from sklearn.neighbors import KNeighborsClassifier\n",
    "from sklearn.naive_bayes import GaussianNB \n",
    "from sklearn.tree import DecisionTreeClassifier \n",
    "from sklearn.ensemble import RandomForestClassifier\n",
    "from sklearn.neural_network import MLPClassifier\n",
    "from xgboost import XGBClassifier\n",
    "from sklearn.model_selection import KFold, cross_val_score\n",
    "from sklearn.metrics import accuracy_score\n",
    "from sklearn.metrics import confusion_matrix\n",
    "from sklearn.metrics import classification_report"
   ]
  },
  {
   "cell_type": "code",
   "execution_count": 30,
   "metadata": {},
   "outputs": [
    {
     "name": "stdout",
     "output_type": "stream",
     "text": [
      "Collecting xgboost\n",
      "  Downloading xgboost-1.2.0-py3-none-manylinux2010_x86_64.whl (148.9 MB)\n",
      "\u001b[K     |████████████████████████████████| 148.9 MB 3.6 MB/s eta 0:00:01   |                                | 317 kB 444 kB/s eta 0:05:35     |█▋                              | 7.3 MB 2.2 MB/s eta 0:01:06     |█▉                              | 8.3 MB 3.9 MB/s eta 0:00:37     |███▍                            | 15.6 MB 1.7 MB/s eta 0:01:18     |███▍                            | 15.9 MB 1.7 MB/s eta 0:01:18     |███▋                            | 17.1 MB 1.7 MB/s eta 0:01:20     |███▉                            | 18.1 MB 1.7 MB/s eta 0:01:19     |████                            | 18.6 MB 1.7 MB/s eta 0:01:19     |████▌                           | 20.7 MB 1.2 MB/s eta 0:01:50     |█████▏                          | 24.0 MB 1.5 MB/s eta 0:01:22     |█████▊                          | 26.7 MB 3.7 MB/s eta 0:00:33     |██████▉                         | 31.8 MB 2.2 MB/s eta 0:00:55     |████████▎                       | 38.7 MB 4.4 MB/s eta 0:00:26     |██████████▍                     | 48.1 MB 2.2 MB/s eta 0:00:47     |███████████                     | 51.5 MB 2.2 MB/s eta 0:00:46     |███████████▍                    | 52.9 MB 2.2 MB/s eta 0:00:45     |███████████▍                    | 53.0 MB 2.2 MB/s eta 0:00:45     |████████████▎                   | 57.0 MB 2.2 MB/s eta 0:00:41     |████████████▋                   | 58.7 MB 2.2 MB/s eta 0:00:41     |██████████████                  | 65.3 MB 2.3 MB/s eta 0:00:37          | 66.5 MB 2.3 MB/s eta 0:00:37     |███████████████▌                | 72.1 MB 3.5 MB/s eta 0:00:22     |████████████████                | 74.1 MB 3.8 MB/s eta 0:00:20     |████████████████                | 75.0 MB 3.8 MB/s eta 0:00:20     |█████████████████               | 79.5 MB 4.7 MB/s eta 0:00:15     |██████████████████▏             | 84.4 MB 3.7 MB/s eta 0:00:18     |███████████████████▌            | 90.6 MB 2.5 MB/s eta 0:00:24     |████████████████████▍           | 94.9 MB 1.2 MB/s eta 0:00:47     |███████████████████████▏        | 107.6 MB 1.5 MB/s eta 0:00:28     |███████████████████████▍        | 109.0 MB 1.5 MB/s eta 0:00:27     |████████████████████████        | 111.2 MB 3.8 MB/s eta 0:00:10     |████████████████████████        | 111.8 MB 3.8 MB/s eta 0:00:10     |████████████████████████▍       | 113.5 MB 2.5 MB/s eta 0:00:15     |████████████████████████▊       | 114.8 MB 2.5 MB/s eta 0:00:14     |████████████████████████▊       | 115.0 MB 2.5 MB/s eta 0:00:14     |██████████████████████████▉     | 124.9 MB 2.1 MB/s eta 0:00:12     |███████████████████████████     | 125.9 MB 2.1 MB/s eta 0:00:11     |███████████████████████████▌    | 128.1 MB 1.9 MB/s eta 0:00:12     |█████████████████████████████   | 135.4 MB 2.4 MB/s eta 0:00:06     |█████████████████████████████▌  | 137.2 MB 642 kB/s eta 0:00:19     |█████████████████████████████▊  | 138.2 MB 642 kB/s eta 0:00:17█████▋ | 142.4 MB 700 kB/s eta 0:00:10     |████████████████████████████████| 148.9 MB 5.1 kB/s \n",
      "\u001b[?25hRequirement already satisfied: scipy in /opt/conda/lib/python3.8/site-packages (from xgboost) (1.5.0)\n",
      "Requirement already satisfied: numpy in /opt/conda/lib/python3.8/site-packages (from xgboost) (1.18.5)\n",
      "Installing collected packages: xgboost\n",
      "Successfully installed xgboost-1.2.0\n",
      "Note: you may need to restart the kernel to use updated packages.\n"
     ]
    }
   ],
   "source": [
    "#pip install xgboost"
   ]
  },
  {
   "cell_type": "code",
   "execution_count": 32,
   "metadata": {},
   "outputs": [
    {
     "name": "stderr",
     "output_type": "stream",
     "text": [
      "/opt/conda/lib/python3.8/site-packages/sklearn/model_selection/_split.py:293: FutureWarning: Setting a random_state has no effect since shuffle is False. This will raise an error in 0.24. You should leave random_state to its default (None), or set shuffle=True.\n",
      "  warnings.warn(\n",
      "/opt/conda/lib/python3.8/site-packages/sklearn/linear_model/_logistic.py:762: ConvergenceWarning: lbfgs failed to converge (status=1):\n",
      "STOP: TOTAL NO. of ITERATIONS REACHED LIMIT.\n",
      "\n",
      "Increase the number of iterations (max_iter) or scale the data as shown in:\n",
      "    https://scikit-learn.org/stable/modules/preprocessing.html\n",
      "Please also refer to the documentation for alternative solver options:\n",
      "    https://scikit-learn.org/stable/modules/linear_model.html#logistic-regression\n",
      "  n_iter_i = _check_optimize_result(\n",
      "/opt/conda/lib/python3.8/site-packages/sklearn/linear_model/_logistic.py:762: ConvergenceWarning: lbfgs failed to converge (status=1):\n",
      "STOP: TOTAL NO. of ITERATIONS REACHED LIMIT.\n",
      "\n",
      "Increase the number of iterations (max_iter) or scale the data as shown in:\n",
      "    https://scikit-learn.org/stable/modules/preprocessing.html\n",
      "Please also refer to the documentation for alternative solver options:\n",
      "    https://scikit-learn.org/stable/modules/linear_model.html#logistic-regression\n",
      "  n_iter_i = _check_optimize_result(\n",
      "/opt/conda/lib/python3.8/site-packages/sklearn/linear_model/_logistic.py:762: ConvergenceWarning: lbfgs failed to converge (status=1):\n",
      "STOP: TOTAL NO. of ITERATIONS REACHED LIMIT.\n",
      "\n",
      "Increase the number of iterations (max_iter) or scale the data as shown in:\n",
      "    https://scikit-learn.org/stable/modules/preprocessing.html\n",
      "Please also refer to the documentation for alternative solver options:\n",
      "    https://scikit-learn.org/stable/modules/linear_model.html#logistic-regression\n",
      "  n_iter_i = _check_optimize_result(\n",
      "/opt/conda/lib/python3.8/site-packages/sklearn/linear_model/_logistic.py:762: ConvergenceWarning: lbfgs failed to converge (status=1):\n",
      "STOP: TOTAL NO. of ITERATIONS REACHED LIMIT.\n",
      "\n",
      "Increase the number of iterations (max_iter) or scale the data as shown in:\n",
      "    https://scikit-learn.org/stable/modules/preprocessing.html\n",
      "Please also refer to the documentation for alternative solver options:\n",
      "    https://scikit-learn.org/stable/modules/linear_model.html#logistic-regression\n",
      "  n_iter_i = _check_optimize_result(\n",
      "/opt/conda/lib/python3.8/site-packages/sklearn/linear_model/_logistic.py:762: ConvergenceWarning: lbfgs failed to converge (status=1):\n",
      "STOP: TOTAL NO. of ITERATIONS REACHED LIMIT.\n",
      "\n",
      "Increase the number of iterations (max_iter) or scale the data as shown in:\n",
      "    https://scikit-learn.org/stable/modules/preprocessing.html\n",
      "Please also refer to the documentation for alternative solver options:\n",
      "    https://scikit-learn.org/stable/modules/linear_model.html#logistic-regression\n",
      "  n_iter_i = _check_optimize_result(\n",
      "/opt/conda/lib/python3.8/site-packages/sklearn/linear_model/_logistic.py:762: ConvergenceWarning: lbfgs failed to converge (status=1):\n",
      "STOP: TOTAL NO. of ITERATIONS REACHED LIMIT.\n",
      "\n",
      "Increase the number of iterations (max_iter) or scale the data as shown in:\n",
      "    https://scikit-learn.org/stable/modules/preprocessing.html\n",
      "Please also refer to the documentation for alternative solver options:\n",
      "    https://scikit-learn.org/stable/modules/linear_model.html#logistic-regression\n",
      "  n_iter_i = _check_optimize_result(\n",
      "/opt/conda/lib/python3.8/site-packages/sklearn/linear_model/_logistic.py:762: ConvergenceWarning: lbfgs failed to converge (status=1):\n",
      "STOP: TOTAL NO. of ITERATIONS REACHED LIMIT.\n",
      "\n",
      "Increase the number of iterations (max_iter) or scale the data as shown in:\n",
      "    https://scikit-learn.org/stable/modules/preprocessing.html\n",
      "Please also refer to the documentation for alternative solver options:\n",
      "    https://scikit-learn.org/stable/modules/linear_model.html#logistic-regression\n",
      "  n_iter_i = _check_optimize_result(\n",
      "/opt/conda/lib/python3.8/site-packages/sklearn/linear_model/_logistic.py:762: ConvergenceWarning: lbfgs failed to converge (status=1):\n",
      "STOP: TOTAL NO. of ITERATIONS REACHED LIMIT.\n",
      "\n",
      "Increase the number of iterations (max_iter) or scale the data as shown in:\n",
      "    https://scikit-learn.org/stable/modules/preprocessing.html\n",
      "Please also refer to the documentation for alternative solver options:\n",
      "    https://scikit-learn.org/stable/modules/linear_model.html#logistic-regression\n",
      "  n_iter_i = _check_optimize_result(\n",
      "/opt/conda/lib/python3.8/site-packages/sklearn/linear_model/_logistic.py:762: ConvergenceWarning: lbfgs failed to converge (status=1):\n",
      "STOP: TOTAL NO. of ITERATIONS REACHED LIMIT.\n",
      "\n",
      "Increase the number of iterations (max_iter) or scale the data as shown in:\n",
      "    https://scikit-learn.org/stable/modules/preprocessing.html\n",
      "Please also refer to the documentation for alternative solver options:\n",
      "    https://scikit-learn.org/stable/modules/linear_model.html#logistic-regression\n",
      "  n_iter_i = _check_optimize_result(\n",
      "/opt/conda/lib/python3.8/site-packages/sklearn/linear_model/_logistic.py:762: ConvergenceWarning: lbfgs failed to converge (status=1):\n",
      "STOP: TOTAL NO. of ITERATIONS REACHED LIMIT.\n",
      "\n",
      "Increase the number of iterations (max_iter) or scale the data as shown in:\n",
      "    https://scikit-learn.org/stable/modules/preprocessing.html\n",
      "Please also refer to the documentation for alternative solver options:\n",
      "    https://scikit-learn.org/stable/modules/linear_model.html#logistic-regression\n",
      "  n_iter_i = _check_optimize_result(\n",
      "/opt/conda/lib/python3.8/site-packages/sklearn/model_selection/_split.py:293: FutureWarning: Setting a random_state has no effect since shuffle is False. This will raise an error in 0.24. You should leave random_state to its default (None), or set shuffle=True.\n",
      "  warnings.warn(\n"
     ]
    },
    {
     "name": "stdout",
     "output_type": "stream",
     "text": [
      "LRN: 0.962500 (0.080039)\n",
      "LDA: 0.900000 (0.093541)\n",
      "SVM: 0.862500 (0.171847)\n"
     ]
    },
    {
     "name": "stderr",
     "output_type": "stream",
     "text": [
      "/opt/conda/lib/python3.8/site-packages/sklearn/model_selection/_split.py:293: FutureWarning: Setting a random_state has no effect since shuffle is False. This will raise an error in 0.24. You should leave random_state to its default (None), or set shuffle=True.\n",
      "  warnings.warn(\n",
      "/opt/conda/lib/python3.8/site-packages/sklearn/model_selection/_split.py:293: FutureWarning: Setting a random_state has no effect since shuffle is False. This will raise an error in 0.24. You should leave random_state to its default (None), or set shuffle=True.\n",
      "  warnings.warn(\n"
     ]
    },
    {
     "name": "stdout",
     "output_type": "stream",
     "text": [
      "SGD: 0.337500 (0.243990)\n",
      "KNN: 0.937500 (0.083853)\n",
      "GNB: 0.900000 (0.122474)\n"
     ]
    },
    {
     "name": "stderr",
     "output_type": "stream",
     "text": [
      "/opt/conda/lib/python3.8/site-packages/sklearn/model_selection/_split.py:293: FutureWarning: Setting a random_state has no effect since shuffle is False. This will raise an error in 0.24. You should leave random_state to its default (None), or set shuffle=True.\n",
      "  warnings.warn(\n",
      "/opt/conda/lib/python3.8/site-packages/sklearn/model_selection/_split.py:293: FutureWarning: Setting a random_state has no effect since shuffle is False. This will raise an error in 0.24. You should leave random_state to its default (None), or set shuffle=True.\n",
      "  warnings.warn(\n",
      "/opt/conda/lib/python3.8/site-packages/sklearn/model_selection/_split.py:293: FutureWarning: Setting a random_state has no effect since shuffle is False. This will raise an error in 0.24. You should leave random_state to its default (None), or set shuffle=True.\n",
      "  warnings.warn(\n",
      "/opt/conda/lib/python3.8/site-packages/sklearn/model_selection/_split.py:293: FutureWarning: Setting a random_state has no effect since shuffle is False. This will raise an error in 0.24. You should leave random_state to its default (None), or set shuffle=True.\n",
      "  warnings.warn(\n"
     ]
    },
    {
     "name": "stdout",
     "output_type": "stream",
     "text": [
      "DTS: 0.975000 (0.075000)\n",
      "RFS: 0.975000 (0.075000)\n"
     ]
    },
    {
     "name": "stderr",
     "output_type": "stream",
     "text": [
      "/opt/conda/lib/python3.8/site-packages/sklearn/model_selection/_split.py:293: FutureWarning: Setting a random_state has no effect since shuffle is False. This will raise an error in 0.24. You should leave random_state to its default (None), or set shuffle=True.\n",
      "  warnings.warn(\n",
      "/opt/conda/lib/python3.8/site-packages/sklearn/neural_network/_multilayer_perceptron.py:582: ConvergenceWarning: Stochastic Optimizer: Maximum iterations (200) reached and the optimization hasn't converged yet.\n",
      "  warnings.warn(\n",
      "/opt/conda/lib/python3.8/site-packages/sklearn/neural_network/_multilayer_perceptron.py:582: ConvergenceWarning: Stochastic Optimizer: Maximum iterations (200) reached and the optimization hasn't converged yet.\n",
      "  warnings.warn(\n",
      "/opt/conda/lib/python3.8/site-packages/sklearn/neural_network/_multilayer_perceptron.py:582: ConvergenceWarning: Stochastic Optimizer: Maximum iterations (200) reached and the optimization hasn't converged yet.\n",
      "  warnings.warn(\n",
      "/opt/conda/lib/python3.8/site-packages/sklearn/model_selection/_split.py:293: FutureWarning: Setting a random_state has no effect since shuffle is False. This will raise an error in 0.24. You should leave random_state to its default (None), or set shuffle=True.\n",
      "  warnings.warn(\n"
     ]
    },
    {
     "name": "stdout",
     "output_type": "stream",
     "text": [
      "NNM: 0.562500 (0.280903)\n",
      "XGB: 0.975000 (0.075000)\n"
     ]
    }
   ],
   "source": [
    "#Se crea la lista \"models\" la cual contendra los algoritmos de machine learning para la construcción del modelo:\n",
    "#El algoritmo 'LRN' el cual es 'LogisticRegression' que representa 'Regresión Logística',\n",
    "#El algoritmo 'LDA' el cual es 'LinearDiscriminantAnalysis' que representa 'Análisis Discriminante',\n",
    "#El algoritmo 'SVM' el cual es 'SVC' que representa 'Máquina de soporte de vectores',\n",
    "#El algoritmo 'SGD' el cual es 'SGDClassifier' que representa 'Pendiente de Gradiente Estocástico',\n",
    "#El algoritmo 'KNN' el cual es 'KNeighborsClassifier' que representa 'Vecinos más Cercanos',\n",
    "#El algoritmo 'GNB' el cual es 'GaussianNB' que representa 'Clasificador Bayesiano Ingenuo',\n",
    "#El algoritmo 'DTS' el cual es 'DecisionTreeClassifier' que representa 'Árbol de Decisión',\n",
    "#El algoritmo 'RFS' el cual es 'RandomForestClassifier' que representa 'Bosques Aleatorios',\n",
    "#El algoritmo 'NNM' el cual es 'MLPClassifier' que representa 'Redes Neuronales' y\n",
    "#El algoritmo 'XGB' el cual es 'XGBClassifier' que representa 'Potenciador del Gradiente Extremo',\n",
    "models = []\n",
    "models.append(('LRN', LogisticRegression()))\n",
    "models.append(('LDA', LinearDiscriminantAnalysis()))\n",
    "models.append(('SVM', SVC()))\n",
    "models.append(('SGD', SGDClassifier()))\n",
    "models.append(('KNN', KNeighborsClassifier()))\n",
    "models.append(('GNB', GaussianNB()))\n",
    "models.append(('DTS', DecisionTreeClassifier()))\n",
    "models.append(('RFS', RandomForestClassifier()))\n",
    "models.append(('NNM', MLPClassifier()))\n",
    "models.append(('XGB', XGBClassifier()))\n",
    "\n",
    "#Se crea una lista \"result\" que almacenara los resultados de la validación cruzada\n",
    "results = []\n",
    "\n",
    "#Se crea una lista \"names\" que almacenara los nombres de los algoritmos de machine learning\n",
    "names = []\n",
    "\n",
    "#Se ejecuta el ciclo 'for' con todos los algoritmos de machine learning elegidos:\n",
    "#Repete y calcula la media aritmética de las medidas de evaluación de las diferentes particiones\n",
    "#Proceso de validación cruzada con 10 interacciones de los datos de entrenamiento\n",
    "#Se divide en 10 partes, entrena en 9, valida en 1 y repite el proceso 10 veces\n",
    "for name, model in models:\n",
    "\tkfold = KFold(n_splits=10, random_state=7)\n",
    "\tcv_results = cross_val_score(model, X_train, y_train, cv=kfold, scoring='accuracy')\n",
    "\tresults.append(cv_results)\n",
    "\tnames.append(name)\n",
    "\tmsg = \"%s: %f (%f)\" % (name, cv_results.mean(), cv_results.std())\n",
    "\tprint(msg)"
   ]
  },
  {
   "cell_type": "code",
   "execution_count": 33,
   "metadata": {},
   "outputs": [
    {
     "data": {
      "image/png": "[encoded data removed]",
      "text/plain": [
       "<Figure size 432x288 with 1 Axes>"
      ]
     },
     "metadata": {
      "needs_background": "light"
     },
     "output_type": "display_data"
    }
   ],
   "source": [
    "#Se crea el diagrama de caja y bigotes con los resultados de evaluación de los modelos para \n",
    "#Comparar la Distribución y Precisión media para cada modelo\n",
    "fig = plt.figure()\n",
    "fig.suptitle('Comparación de Algoritmos')\n",
    "fig.subplots_adjust(left=0.00, right=1.0, top=0.9, bottom=0.0)\n",
    "ax = fig.add_subplot(111)\n",
    "plt.boxplot(results)\n",
    "ax.set_xticklabels(names, rotation=0, fontsize=8)\n",
    "ax.set_xlabel('Modelos')\n",
    "ax.set_ylabel('Precisión')\n",
    "plt.show()"
   ]
  },
  {
   "cell_type": "code",
   "execution_count": 34,
   "metadata": {},
   "outputs": [
    {
     "name": "stdout",
     "output_type": "stream",
     "text": [
      "model: XGB\n"
     ]
    },
    {
     "data": {
      "text/plain": [
       "array([1.  , 1.  , 1.  , 1.  , 0.75, 1.  , 1.  , 1.  , 1.  , 1.  ])"
      ]
     },
     "execution_count": 34,
     "metadata": {},
     "output_type": "execute_result"
    }
   ],
   "source": [
    "print('model:',names[9])\n",
    "results[9]"
   ]
  },
  {
   "cell_type": "code",
   "execution_count": 35,
   "metadata": {},
   "outputs": [
    {
     "name": "stdout",
     "output_type": "stream",
     "text": [
      "model: RFS\n"
     ]
    },
    {
     "data": {
      "text/plain": [
       "array([1.  , 1.  , 1.  , 1.  , 0.75, 1.  , 1.  , 1.  , 1.  , 1.  ])"
      ]
     },
     "execution_count": 35,
     "metadata": {},
     "output_type": "execute_result"
    }
   ],
   "source": [
    "print('model:',names[7])\n",
    "results[7]"
   ]
  },
  {
   "cell_type": "code",
   "execution_count": 36,
   "metadata": {},
   "outputs": [
    {
     "name": "stdout",
     "output_type": "stream",
     "text": [
      "model: DTS\n"
     ]
    },
    {
     "data": {
      "text/plain": [
       "array([1.  , 1.  , 1.  , 1.  , 0.75, 1.  , 1.  , 1.  , 1.  , 1.  ])"
      ]
     },
     "execution_count": 36,
     "metadata": {},
     "output_type": "execute_result"
    }
   ],
   "source": [
    "print('model:',names[6])\n",
    "results[6]"
   ]
  },
  {
   "cell_type": "code",
   "execution_count": 37,
   "metadata": {},
   "outputs": [
    {
     "data": {
      "text/plain": [
       "XGBClassifier(base_score=0.5, booster='gbtree', colsample_bylevel=1,\n",
       "              colsample_bynode=1, colsample_bytree=1, gamma=0, gpu_id=-1,\n",
       "              importance_type='gain', interaction_constraints='',\n",
       "              learning_rate=0.300000012, max_delta_step=0, max_depth=6,\n",
       "              min_child_weight=1, missing=nan, monotone_constraints='()',\n",
       "              n_estimators=100, n_jobs=0, num_parallel_tree=1,\n",
       "              objective='multi:softprob', random_state=0, reg_alpha=0,\n",
       "              reg_lambda=1, scale_pos_weight=None, subsample=1,\n",
       "              tree_method='exact', validate_parameters=1, verbosity=None)"
      ]
     },
     "execution_count": 37,
     "metadata": {},
     "output_type": "execute_result"
    }
   ],
   "source": [
    "#Se escoge el mejor modelo predictivo\n",
    "XGB = XGBClassifier()\n",
    "\n",
    "#Se entrena el modelo escogido\n",
    "XGB.fit(X_train, y_train)"
   ]
  },
  {
   "cell_type": "code",
   "execution_count": 38,
   "metadata": {},
   "outputs": [],
   "source": [
    "#Se realiza las predicciones con los datos del array de prueba 'X_test'\n",
    "predictions = XGB.predict(X_test)"
   ]
  },
  {
   "cell_type": "code",
   "execution_count": 39,
   "metadata": {},
   "outputs": [
    {
     "name": "stdout",
     "output_type": "stream",
     "text": [
      "0.9714285714285714\n",
      "[[20  1  0]\n",
      " [ 0  8  0]\n",
      " [ 0  0  6]]\n",
      "              precision    recall  f1-score   support\n",
      "\n",
      "           0       1.00      0.95      0.98        21\n",
      "           1       0.89      1.00      0.94         8\n",
      "           2       1.00      1.00      1.00         6\n",
      "\n",
      "    accuracy                           0.97        35\n",
      "   macro avg       0.96      0.98      0.97        35\n",
      "weighted avg       0.97      0.97      0.97        35\n",
      "\n"
     ]
    }
   ],
   "source": [
    "#Puntaje de clasificación de precisión\n",
    "print(accuracy_score(y_test, predictions))\n",
    "\n",
    "#Matriz de confusión\n",
    "print(confusion_matrix(y_test, predictions))\n",
    "\n",
    "#Reporte de clasificación\n",
    "print(classification_report(y_test, predictions))\n"
   ]
  },
  {
   "cell_type": "markdown",
   "metadata": {},
   "source": [
    "Guardando el modeo machine learning"
   ]
  },
  {
   "cell_type": "code",
   "execution_count": 40,
   "metadata": {},
   "outputs": [
    {
     "data": {
      "text/plain": [
       "['XGB.joblib']"
      ]
     },
     "execution_count": 40,
     "metadata": {},
     "output_type": "execute_result"
    }
   ],
   "source": [
    "from joblib import dump\n",
    "dump(XGB, 'XGB.joblib') "
   ]
  },
  {
   "cell_type": "code",
   "execution_count": 41,
   "metadata": {},
   "outputs": [],
   "source": [
    "from joblib import load\n",
    "XGBloaded = load('XGB.joblib') "
   ]
  },
  {
   "cell_type": "code",
   "execution_count": 42,
   "metadata": {},
   "outputs": [],
   "source": [
    "#Se realiza las predicciones con los datos del array de prueba 'X_test'\n",
    "predictions2 = XGBloaded.predict(X_test)"
   ]
  },
  {
   "cell_type": "code",
   "execution_count": 43,
   "metadata": {},
   "outputs": [
    {
     "name": "stdout",
     "output_type": "stream",
     "text": [
      "              precision    recall  f1-score   support\n",
      "\n",
      "           0       1.00      0.95      0.98        21\n",
      "           1       0.89      1.00      0.94         8\n",
      "           2       1.00      1.00      1.00         6\n",
      "\n",
      "    accuracy                           0.97        35\n",
      "   macro avg       0.96      0.98      0.97        35\n",
      "weighted avg       0.97      0.97      0.97        35\n",
      "\n"
     ]
    }
   ],
   "source": [
    "#Reporte de clasificación\n",
    "print(classification_report(y_test, predictions2))"
   ]
  },
  {
   "cell_type": "code",
   "execution_count": 44,
   "metadata": {},
   "outputs": [
    {
     "data": {
      "text/plain": [
       "array([0, 1, 0, 0, 0, 1, 1, 1, 2, 0, 0, 0, 2, 0, 0, 2, 0, 1, 0, 0, 0, 0,\n",
       "       0, 1, 1, 1, 2, 2, 0, 2, 0, 0, 0, 0, 0])"
      ]
     },
     "execution_count": 44,
     "metadata": {},
     "output_type": "execute_result"
    }
   ],
   "source": [
    "y_test"
   ]
  },
  {
   "cell_type": "code",
   "execution_count": 45,
   "metadata": {},
   "outputs": [
    {
     "data": {
      "text/plain": [
       "array([0, 1, 0, 1, 0, 1, 1, 1, 2, 0, 0, 0, 2, 0, 0, 2, 0, 1, 0, 0, 0, 0,\n",
       "       0, 1, 1, 1, 2, 2, 0, 2, 0, 0, 0, 0, 0])"
      ]
     },
     "execution_count": 45,
     "metadata": {},
     "output_type": "execute_result"
    }
   ],
   "source": [
    "predictions2"
   ]
  },
  {
   "cell_type": "markdown",
   "metadata": {},
   "source": [
    "un balanceo de distribución de los datos"
   ]
  },
  {
   "cell_type": "markdown",
   "metadata": {},
   "source": [
    "buscar los mejores hiperparámetros"
   ]
  },
  {
   "cell_type": "code",
   "execution_count": null,
   "metadata": {},
   "outputs": [],
   "source": []
  }
 ],
 "metadata": {
  "kernelspec": {
   "display_name": "Python 3",
   "language": "python",
   "name": "python3"
  },
  "language_info": {
   "codemirror_mode": {
    "name": "ipython",
    "version": 3
   },
   "file_extension": ".py",
   "mimetype": "text/x-python",
   "name": "python",
   "nbconvert_exporter": "python",
   "pygments_lexer": "ipython3",
   "version": "3.8.3"
  }
 },
 "nbformat": 4,
 "nbformat_minor": 4
}
