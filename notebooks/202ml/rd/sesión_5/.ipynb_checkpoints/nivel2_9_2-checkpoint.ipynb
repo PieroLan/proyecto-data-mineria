{
 "cells": [
  {
   "cell_type": "markdown",
   "metadata": {},
   "source": [
    "<center><img src=\"https://www.mindinventory.com/blog/wp-content/uploads/2019/04/python-development-1200x500.png\" width=\"1000\"></center>"
   ]
  },
  {
   "cell_type": "markdown",
   "metadata": {},
   "source": [
    "# Programa de Especialización en Python\n",
    "\n",
    "## Tema 9. Comprimir datos mediante la reducción de dimensionalidad: caso práctico bupa\n",
    "\n",
    "### Prof. Manuel Sigüeñas, M.Sc.(c)\n",
    "[msguenas@socialdata-peru.com](msguenas@socialdata-peru.com)"
   ]
  },
  {
   "cell_type": "markdown",
   "metadata": {},
   "source": [
    "<br>\n",
    "<br>"
   ]
  },
  {
   "cell_type": "markdown",
   "metadata": {},
   "source": [
    "# Compresion de datos supervisada mediante análisis discriminante lineal"
   ]
  },
  {
   "cell_type": "markdown",
   "metadata": {},
   "source": [
    "<br>\n",
    "<br>"
   ]
  },
  {
   "cell_type": "markdown",
   "metadata": {},
   "source": [
    "<a id='beginning'></a>\n",
    "\n",
    "**Caso: determinantes de las palabras claves para Marketing.**\n",
    "\n",
    "1. [Importar la data](#part1)\n",
    "\n",
    "\n",
    "2. [Estandarizar los datos](#part2)\n",
    "\n",
    "\n",
    "3. [Calcula las matrices de dispersión](#part3)\n",
    "\n",
    "\n",
    "4. [Seleccionar discriminantes lineales para el nuevo subespacio de caracteristicas](#part4)\n",
    "\n",
    "\n",
    "5. [Proyección de muestras en el nuevo espacio de características](#part5)\n"
   ]
  },
  {
   "cell_type": "markdown",
   "metadata": {},
   "source": [
    "<a id='part1'></a>\n",
    "## Importar la data"
   ]
  },
  {
   "cell_type": "code",
   "execution_count": 1,
   "metadata": {},
   "outputs": [],
   "source": [
    "import pandas as pd"
   ]
  },
  {
   "cell_type": "code",
   "execution_count": 3,
   "metadata": {},
   "outputs": [],
   "source": [
    "bu= pd.read_excel('C:/Users/SOCIAL DATA/Dropbox/PYTHON/2. intermedio/sesión_5/datos/diabetes_py.xlsx')"
   ]
  },
  {
   "cell_type": "code",
   "execution_count": 4,
   "metadata": {},
   "outputs": [
    {
     "data": {
      "text/html": [
       "<div>\n",
       "<style scoped>\n",
       "    .dataframe tbody tr th:only-of-type {\n",
       "        vertical-align: middle;\n",
       "    }\n",
       "\n",
       "    .dataframe tbody tr th {\n",
       "        vertical-align: top;\n",
       "    }\n",
       "\n",
       "    .dataframe thead th {\n",
       "        text-align: right;\n",
       "    }\n",
       "</style>\n",
       "<table border=\"1\" class=\"dataframe\">\n",
       "  <thead>\n",
       "    <tr style=\"text-align: right;\">\n",
       "      <th></th>\n",
       "      <th>Clase</th>\n",
       "      <th>glucosa</th>\n",
       "      <th>insulina</th>\n",
       "      <th>sspg</th>\n",
       "    </tr>\n",
       "  </thead>\n",
       "  <tbody>\n",
       "    <tr>\n",
       "      <th>0</th>\n",
       "      <td>1</td>\n",
       "      <td>97</td>\n",
       "      <td>289</td>\n",
       "      <td>117</td>\n",
       "    </tr>\n",
       "    <tr>\n",
       "      <th>1</th>\n",
       "      <td>1</td>\n",
       "      <td>105</td>\n",
       "      <td>319</td>\n",
       "      <td>143</td>\n",
       "    </tr>\n",
       "    <tr>\n",
       "      <th>2</th>\n",
       "      <td>1</td>\n",
       "      <td>90</td>\n",
       "      <td>356</td>\n",
       "      <td>199</td>\n",
       "    </tr>\n",
       "    <tr>\n",
       "      <th>3</th>\n",
       "      <td>1</td>\n",
       "      <td>90</td>\n",
       "      <td>323</td>\n",
       "      <td>240</td>\n",
       "    </tr>\n",
       "    <tr>\n",
       "      <th>4</th>\n",
       "      <td>1</td>\n",
       "      <td>86</td>\n",
       "      <td>381</td>\n",
       "      <td>157</td>\n",
       "    </tr>\n",
       "    <tr>\n",
       "      <th>5</th>\n",
       "      <td>1</td>\n",
       "      <td>100</td>\n",
       "      <td>350</td>\n",
       "      <td>221</td>\n",
       "    </tr>\n",
       "    <tr>\n",
       "      <th>6</th>\n",
       "      <td>1</td>\n",
       "      <td>85</td>\n",
       "      <td>301</td>\n",
       "      <td>186</td>\n",
       "    </tr>\n",
       "    <tr>\n",
       "      <th>7</th>\n",
       "      <td>1</td>\n",
       "      <td>97</td>\n",
       "      <td>379</td>\n",
       "      <td>142</td>\n",
       "    </tr>\n",
       "    <tr>\n",
       "      <th>8</th>\n",
       "      <td>1</td>\n",
       "      <td>97</td>\n",
       "      <td>296</td>\n",
       "      <td>131</td>\n",
       "    </tr>\n",
       "    <tr>\n",
       "      <th>9</th>\n",
       "      <td>1</td>\n",
       "      <td>91</td>\n",
       "      <td>353</td>\n",
       "      <td>221</td>\n",
       "    </tr>\n",
       "    <tr>\n",
       "      <th>10</th>\n",
       "      <td>1</td>\n",
       "      <td>87</td>\n",
       "      <td>306</td>\n",
       "      <td>178</td>\n",
       "    </tr>\n",
       "    <tr>\n",
       "      <th>11</th>\n",
       "      <td>1</td>\n",
       "      <td>78</td>\n",
       "      <td>290</td>\n",
       "      <td>136</td>\n",
       "    </tr>\n",
       "    <tr>\n",
       "      <th>12</th>\n",
       "      <td>1</td>\n",
       "      <td>90</td>\n",
       "      <td>371</td>\n",
       "      <td>200</td>\n",
       "    </tr>\n",
       "    <tr>\n",
       "      <th>13</th>\n",
       "      <td>1</td>\n",
       "      <td>80</td>\n",
       "      <td>393</td>\n",
       "      <td>202</td>\n",
       "    </tr>\n",
       "    <tr>\n",
       "      <th>14</th>\n",
       "      <td>1</td>\n",
       "      <td>90</td>\n",
       "      <td>364</td>\n",
       "      <td>152</td>\n",
       "    </tr>\n",
       "    <tr>\n",
       "      <th>15</th>\n",
       "      <td>1</td>\n",
       "      <td>99</td>\n",
       "      <td>359</td>\n",
       "      <td>185</td>\n",
       "    </tr>\n",
       "    <tr>\n",
       "      <th>16</th>\n",
       "      <td>1</td>\n",
       "      <td>85</td>\n",
       "      <td>296</td>\n",
       "      <td>116</td>\n",
       "    </tr>\n",
       "    <tr>\n",
       "      <th>17</th>\n",
       "      <td>1</td>\n",
       "      <td>90</td>\n",
       "      <td>345</td>\n",
       "      <td>123</td>\n",
       "    </tr>\n",
       "    <tr>\n",
       "      <th>18</th>\n",
       "      <td>1</td>\n",
       "      <td>90</td>\n",
       "      <td>378</td>\n",
       "      <td>136</td>\n",
       "    </tr>\n",
       "    <tr>\n",
       "      <th>19</th>\n",
       "      <td>1</td>\n",
       "      <td>88</td>\n",
       "      <td>304</td>\n",
       "      <td>134</td>\n",
       "    </tr>\n",
       "    <tr>\n",
       "      <th>20</th>\n",
       "      <td>1</td>\n",
       "      <td>90</td>\n",
       "      <td>327</td>\n",
       "      <td>192</td>\n",
       "    </tr>\n",
       "    <tr>\n",
       "      <th>21</th>\n",
       "      <td>1</td>\n",
       "      <td>92</td>\n",
       "      <td>386</td>\n",
       "      <td>279</td>\n",
       "    </tr>\n",
       "    <tr>\n",
       "      <th>22</th>\n",
       "      <td>1</td>\n",
       "      <td>98</td>\n",
       "      <td>365</td>\n",
       "      <td>145</td>\n",
       "    </tr>\n",
       "    <tr>\n",
       "      <th>23</th>\n",
       "      <td>1</td>\n",
       "      <td>100</td>\n",
       "      <td>352</td>\n",
       "      <td>172</td>\n",
       "    </tr>\n",
       "    <tr>\n",
       "      <th>24</th>\n",
       "      <td>1</td>\n",
       "      <td>86</td>\n",
       "      <td>325</td>\n",
       "      <td>179</td>\n",
       "    </tr>\n",
       "    <tr>\n",
       "      <th>25</th>\n",
       "      <td>1</td>\n",
       "      <td>98</td>\n",
       "      <td>321</td>\n",
       "      <td>222</td>\n",
       "    </tr>\n",
       "    <tr>\n",
       "      <th>26</th>\n",
       "      <td>1</td>\n",
       "      <td>70</td>\n",
       "      <td>360</td>\n",
       "      <td>134</td>\n",
       "    </tr>\n",
       "    <tr>\n",
       "      <th>27</th>\n",
       "      <td>1</td>\n",
       "      <td>99</td>\n",
       "      <td>336</td>\n",
       "      <td>143</td>\n",
       "    </tr>\n",
       "    <tr>\n",
       "      <th>28</th>\n",
       "      <td>1</td>\n",
       "      <td>75</td>\n",
       "      <td>352</td>\n",
       "      <td>169</td>\n",
       "    </tr>\n",
       "    <tr>\n",
       "      <th>29</th>\n",
       "      <td>1</td>\n",
       "      <td>90</td>\n",
       "      <td>353</td>\n",
       "      <td>263</td>\n",
       "    </tr>\n",
       "    <tr>\n",
       "      <th>...</th>\n",
       "      <td>...</td>\n",
       "      <td>...</td>\n",
       "      <td>...</td>\n",
       "      <td>...</td>\n",
       "    </tr>\n",
       "    <tr>\n",
       "      <th>85</th>\n",
       "      <td>2</td>\n",
       "      <td>92</td>\n",
       "      <td>541</td>\n",
       "      <td>313</td>\n",
       "    </tr>\n",
       "    <tr>\n",
       "      <th>86</th>\n",
       "      <td>2</td>\n",
       "      <td>92</td>\n",
       "      <td>580</td>\n",
       "      <td>132</td>\n",
       "    </tr>\n",
       "    <tr>\n",
       "      <th>87</th>\n",
       "      <td>2</td>\n",
       "      <td>93</td>\n",
       "      <td>472</td>\n",
       "      <td>285</td>\n",
       "    </tr>\n",
       "    <tr>\n",
       "      <th>88</th>\n",
       "      <td>2</td>\n",
       "      <td>112</td>\n",
       "      <td>562</td>\n",
       "      <td>139</td>\n",
       "    </tr>\n",
       "    <tr>\n",
       "      <th>89</th>\n",
       "      <td>2</td>\n",
       "      <td>88</td>\n",
       "      <td>423</td>\n",
       "      <td>212</td>\n",
       "    </tr>\n",
       "    <tr>\n",
       "      <th>90</th>\n",
       "      <td>2</td>\n",
       "      <td>114</td>\n",
       "      <td>643</td>\n",
       "      <td>155</td>\n",
       "    </tr>\n",
       "    <tr>\n",
       "      <th>91</th>\n",
       "      <td>2</td>\n",
       "      <td>103</td>\n",
       "      <td>533</td>\n",
       "      <td>120</td>\n",
       "    </tr>\n",
       "    <tr>\n",
       "      <th>92</th>\n",
       "      <td>3</td>\n",
       "      <td>303</td>\n",
       "      <td>1487</td>\n",
       "      <td>23</td>\n",
       "    </tr>\n",
       "    <tr>\n",
       "      <th>93</th>\n",
       "      <td>3</td>\n",
       "      <td>125</td>\n",
       "      <td>714</td>\n",
       "      <td>232</td>\n",
       "    </tr>\n",
       "    <tr>\n",
       "      <th>94</th>\n",
       "      <td>3</td>\n",
       "      <td>280</td>\n",
       "      <td>1470</td>\n",
       "      <td>54</td>\n",
       "    </tr>\n",
       "    <tr>\n",
       "      <th>95</th>\n",
       "      <td>3</td>\n",
       "      <td>216</td>\n",
       "      <td>1113</td>\n",
       "      <td>81</td>\n",
       "    </tr>\n",
       "    <tr>\n",
       "      <th>96</th>\n",
       "      <td>3</td>\n",
       "      <td>190</td>\n",
       "      <td>972</td>\n",
       "      <td>87</td>\n",
       "    </tr>\n",
       "    <tr>\n",
       "      <th>97</th>\n",
       "      <td>3</td>\n",
       "      <td>303</td>\n",
       "      <td>1364</td>\n",
       "      <td>42</td>\n",
       "    </tr>\n",
       "    <tr>\n",
       "      <th>98</th>\n",
       "      <td>3</td>\n",
       "      <td>173</td>\n",
       "      <td>832</td>\n",
       "      <td>102</td>\n",
       "    </tr>\n",
       "    <tr>\n",
       "      <th>99</th>\n",
       "      <td>3</td>\n",
       "      <td>203</td>\n",
       "      <td>967</td>\n",
       "      <td>138</td>\n",
       "    </tr>\n",
       "    <tr>\n",
       "      <th>100</th>\n",
       "      <td>3</td>\n",
       "      <td>140</td>\n",
       "      <td>613</td>\n",
       "      <td>131</td>\n",
       "    </tr>\n",
       "    <tr>\n",
       "      <th>101</th>\n",
       "      <td>3</td>\n",
       "      <td>275</td>\n",
       "      <td>1373</td>\n",
       "      <td>45</td>\n",
       "    </tr>\n",
       "    <tr>\n",
       "      <th>102</th>\n",
       "      <td>3</td>\n",
       "      <td>260</td>\n",
       "      <td>1133</td>\n",
       "      <td>118</td>\n",
       "    </tr>\n",
       "    <tr>\n",
       "      <th>103</th>\n",
       "      <td>3</td>\n",
       "      <td>233</td>\n",
       "      <td>1183</td>\n",
       "      <td>73</td>\n",
       "    </tr>\n",
       "    <tr>\n",
       "      <th>104</th>\n",
       "      <td>3</td>\n",
       "      <td>146</td>\n",
       "      <td>847</td>\n",
       "      <td>103</td>\n",
       "    </tr>\n",
       "    <tr>\n",
       "      <th>105</th>\n",
       "      <td>3</td>\n",
       "      <td>124</td>\n",
       "      <td>538</td>\n",
       "      <td>460</td>\n",
       "    </tr>\n",
       "    <tr>\n",
       "      <th>106</th>\n",
       "      <td>3</td>\n",
       "      <td>213</td>\n",
       "      <td>1001</td>\n",
       "      <td>42</td>\n",
       "    </tr>\n",
       "    <tr>\n",
       "      <th>107</th>\n",
       "      <td>3</td>\n",
       "      <td>330</td>\n",
       "      <td>1520</td>\n",
       "      <td>13</td>\n",
       "    </tr>\n",
       "    <tr>\n",
       "      <th>108</th>\n",
       "      <td>3</td>\n",
       "      <td>123</td>\n",
       "      <td>557</td>\n",
       "      <td>130</td>\n",
       "    </tr>\n",
       "    <tr>\n",
       "      <th>109</th>\n",
       "      <td>3</td>\n",
       "      <td>130</td>\n",
       "      <td>670</td>\n",
       "      <td>44</td>\n",
       "    </tr>\n",
       "    <tr>\n",
       "      <th>110</th>\n",
       "      <td>3</td>\n",
       "      <td>120</td>\n",
       "      <td>636</td>\n",
       "      <td>314</td>\n",
       "    </tr>\n",
       "    <tr>\n",
       "      <th>111</th>\n",
       "      <td>3</td>\n",
       "      <td>138</td>\n",
       "      <td>741</td>\n",
       "      <td>219</td>\n",
       "    </tr>\n",
       "    <tr>\n",
       "      <th>112</th>\n",
       "      <td>3</td>\n",
       "      <td>188</td>\n",
       "      <td>958</td>\n",
       "      <td>100</td>\n",
       "    </tr>\n",
       "    <tr>\n",
       "      <th>113</th>\n",
       "      <td>3</td>\n",
       "      <td>339</td>\n",
       "      <td>1354</td>\n",
       "      <td>10</td>\n",
       "    </tr>\n",
       "    <tr>\n",
       "      <th>114</th>\n",
       "      <td>3</td>\n",
       "      <td>213</td>\n",
       "      <td>1025</td>\n",
       "      <td>29</td>\n",
       "    </tr>\n",
       "  </tbody>\n",
       "</table>\n",
       "<p>115 rows × 4 columns</p>\n",
       "</div>"
      ],
      "text/plain": [
       "     Clase  glucosa  insulina  sspg\n",
       "0        1       97       289   117\n",
       "1        1      105       319   143\n",
       "2        1       90       356   199\n",
       "3        1       90       323   240\n",
       "4        1       86       381   157\n",
       "5        1      100       350   221\n",
       "6        1       85       301   186\n",
       "7        1       97       379   142\n",
       "8        1       97       296   131\n",
       "9        1       91       353   221\n",
       "10       1       87       306   178\n",
       "11       1       78       290   136\n",
       "12       1       90       371   200\n",
       "13       1       80       393   202\n",
       "14       1       90       364   152\n",
       "15       1       99       359   185\n",
       "16       1       85       296   116\n",
       "17       1       90       345   123\n",
       "18       1       90       378   136\n",
       "19       1       88       304   134\n",
       "20       1       90       327   192\n",
       "21       1       92       386   279\n",
       "22       1       98       365   145\n",
       "23       1      100       352   172\n",
       "24       1       86       325   179\n",
       "25       1       98       321   222\n",
       "26       1       70       360   134\n",
       "27       1       99       336   143\n",
       "28       1       75       352   169\n",
       "29       1       90       353   263\n",
       "..     ...      ...       ...   ...\n",
       "85       2       92       541   313\n",
       "86       2       92       580   132\n",
       "87       2       93       472   285\n",
       "88       2      112       562   139\n",
       "89       2       88       423   212\n",
       "90       2      114       643   155\n",
       "91       2      103       533   120\n",
       "92       3      303      1487    23\n",
       "93       3      125       714   232\n",
       "94       3      280      1470    54\n",
       "95       3      216      1113    81\n",
       "96       3      190       972    87\n",
       "97       3      303      1364    42\n",
       "98       3      173       832   102\n",
       "99       3      203       967   138\n",
       "100      3      140       613   131\n",
       "101      3      275      1373    45\n",
       "102      3      260      1133   118\n",
       "103      3      233      1183    73\n",
       "104      3      146       847   103\n",
       "105      3      124       538   460\n",
       "106      3      213      1001    42\n",
       "107      3      330      1520    13\n",
       "108      3      123       557   130\n",
       "109      3      130       670    44\n",
       "110      3      120       636   314\n",
       "111      3      138       741   219\n",
       "112      3      188       958   100\n",
       "113      3      339      1354    10\n",
       "114      3      213      1025    29\n",
       "\n",
       "[115 rows x 4 columns]"
      ]
     },
     "execution_count": 4,
     "metadata": {},
     "output_type": "execute_result"
    }
   ],
   "source": [
    "bu"
   ]
  },
  {
   "cell_type": "markdown",
   "metadata": {},
   "source": [
    "<a id='part2'></a>\n",
    "## Estandarizar los datos"
   ]
  },
  {
   "cell_type": "markdown",
   "metadata": {},
   "source": [
    "A continuación los datos Wine en conjuntos de prueba y de entrenamiento separados ( utilizando el 70% y el 30 % respectivamente ) y lo estandarizaremos a la varianza de la unidad."
   ]
  },
  {
   "cell_type": "code",
   "execution_count": 5,
   "metadata": {},
   "outputs": [],
   "source": [
    "from sklearn.model_selection import train_test_split\n",
    "x, y = bu.iloc[:, 1:].values, bu.iloc[:, 0].values\n",
    "x_train, x_test, y_train, y_test = \\\n",
    "    train_test_split (x, y, test_size=0.3,\n",
    "                        stratify=y,\n",
    "                     random_state=0)\n",
    "\n",
    "# estandarizar las caracteristicas\n",
    "\n",
    "from sklearn.preprocessing import StandardScaler\n",
    "sc = StandardScaler()\n",
    "x_train_std= sc.fit_transform(x_train)\n",
    "x_test_std= sc.transform(x_test)"
   ]
  },
  {
   "cell_type": "code",
   "execution_count": 6,
   "metadata": {},
   "outputs": [
    {
     "data": {
      "text/plain": [
       "array([[-1.34442197e-01, -1.42449807e-02,  1.28082231e+00],\n",
       "       [-5.47448628e-01, -6.79289240e-01, -1.72161138e-01],\n",
       "       [-1.17233596e-01,  1.06064534e-01,  4.96113369e+00],\n",
       "       [ 3.76438153e-02,  3.66735148e-01,  1.18511682e+00],\n",
       "       [-5.64657229e-01, -5.12192693e-01, -3.29531426e-02],\n",
       "       [ 2.79102002e+00,  3.15390556e+00, -1.07701311e+00],\n",
       "       [-4.44197020e-01,  1.79587015e-01, -3.98374130e-01],\n",
       "       [-4.78614223e-01, -5.69005519e-01,  1.84559350e-01],\n",
       "       [-8.22786248e-01, -5.55637795e-01, -3.80973131e-01],\n",
       "       [-6.50700236e-01, -6.45869931e-01, -4.07074630e-01],\n",
       "       [-3.23736812e-01, -5.58979726e-01,  6.27523541e-02],\n",
       "       [-4.26988419e-01, -7.36102067e-01,  3.67269844e-01],\n",
       "       [-5.47448628e-01, -4.85457245e-01, -1.80861638e-01],\n",
       "       [-3.23736812e-01, -5.02166900e-01, -3.80973131e-01],\n",
       "       [-5.30240027e-01, -7.36102067e-01,  1.84885619e-03],\n",
       "       [-3.75362615e-01, -2.34812424e-01,  1.28952281e+00],\n",
       "       [ 4.85067448e-01,  1.07188258e+00, -6.50688622e-01],\n",
       "       [-4.09779818e-01, -7.12708550e-01,  1.93259850e-01],\n",
       "       [-4.26988419e-01, -5.02166900e-01,  1.49757351e-01],\n",
       "       [ 3.18681785e+00,  2.79966088e+00, -1.18141910e+00],\n",
       "       [-4.44197020e-01, -2.81599457e-01, -5.98485623e-01],\n",
       "       [-2.37693805e-01, -1.81341528e-01,  1.92498556e-02],\n",
       "       [-3.23736812e-01, -2.01393114e-01,  9.50203324e-01],\n",
       "       [-3.23736812e-01, -4.28644419e-01, -8.85602114e-01],\n",
       "       [-4.44197020e-01, -1.67973805e-01,  2.22047628e+00],\n",
       "       [ 1.46595772e+00,  1.47291429e+00, -3.46171132e-01],\n",
       "       [-6.85117438e-01, -6.39186069e-01,  5.49980338e-01],\n",
       "       [-6.50700236e-01, -4.45354074e-01,  2.10660849e-01],\n",
       "       [ 9.49699683e-01,  1.02175361e+00, -6.59389121e-01],\n",
       "       [-4.61405622e-01, -3.01651043e-01, -2.59166135e-01],\n",
       "       [-3.75362615e-01, -3.61805800e-01, -4.15775130e-01],\n",
       "       [-3.23736812e-01, -6.35844138e-01, -3.02668633e-01],\n",
       "       [ 2.09729828e-01,  4.80360800e-01, -1.16401810e+00],\n",
       "       [-4.78614223e-01, -4.95483038e-01, -3.63572131e-01],\n",
       "       [ 2.44684799e+00,  2.02767483e+00, -5.20181126e-01],\n",
       "       [-2.03276603e-01, -4.35328281e-01, -4.33176129e-01],\n",
       "       [-5.64657229e-01, -3.38412283e-01, -3.02668633e-01],\n",
       "       [-3.06528210e-01, -5.89057105e-01,  3.75970343e-01],\n",
       "       [-1.86068001e-01, -4.11934764e-01,  7.76193330e-01],\n",
       "       [-3.06528210e-01, -4.72089521e-01,  1.23655852e-01],\n",
       "       [-1.00024995e-01,  1.39483843e-01,  4.71675840e-01],\n",
       "       [-4.78614223e-01, -5.42270071e-01, -2.24364136e-01],\n",
       "       [-4.26988419e-01, -5.42270071e-01, -1.89562137e-01],\n",
       "       [-5.99074432e-01, -5.85715174e-01, -8.42099615e-01],\n",
       "       [-2.54902406e-01,  2.25162598e-02, -5.02780127e-01],\n",
       "       [-4.78614223e-01, -6.05766759e-01, -4.76678628e-01],\n",
       "       [-3.40945413e-01, -5.38928140e-01, -2.85267634e-01],\n",
       "       [-3.58154014e-01, -7.69521376e-01, -4.07074630e-01],\n",
       "       [ 3.47398638e-01,  7.17637898e-01,  3.58569344e-01],\n",
       "       [-4.78614223e-01, -5.69005519e-01,  1.84559350e-01],\n",
       "       [-6.85117438e-01, -7.89572962e-01, -3.63572131e-01],\n",
       "       [-4.26988419e-01, -1.81341528e-01,  9.32802325e-01],\n",
       "       [ 1.24224590e+00,  1.48962395e+00, -7.89896617e-01],\n",
       "       [-3.75362615e-01, -5.69005519e-01, -5.72384124e-01],\n",
       "       [-3.40945413e-01, -6.85973102e-01,  3.84670843e-01],\n",
       "       [ 3.80632749e+00,  2.76624157e+00, -1.45983509e+00],\n",
       "       [-3.06528210e-01, -5.32244278e-01,  3.66508550e-02],\n",
       "       [ 3.18681785e+00,  3.21071839e+00, -1.34672860e+00],\n",
       "       [-4.78614223e-01, -6.65921517e-01,  1.23655852e-01],\n",
       "       [-7.36743242e-01, -5.82373243e-01, -7.64556412e-02],\n",
       "       [ 1.23686822e-01,  6.27405762e-01,  4.71675840e-01],\n",
       "       [-4.09779818e-01, -7.86231031e-01, -7.28993119e-01],\n",
       "       [-4.95822824e-01, -6.95998895e-01, -9.11703613e-01],\n",
       "       [-5.47448628e-01, -4.45354074e-01, -5.46282625e-01],\n",
       "       [-2.72111008e-01,  2.43083703e-01,  7.67492830e-01],\n",
       "       [-5.13031426e-01, -7.86231031e-01, -1.80861638e-01],\n",
       "       [-1.00024995e-01,  1.19432257e-01, -3.37470632e-01],\n",
       "       [ 1.63804373e+00,  1.66674629e+00, -1.29452560e+00],\n",
       "       [-5.64657229e-01, -7.69521376e-01, -5.37582126e-01],\n",
       "       [-3.92571217e-01, -3.09546355e-02,  3.36024174e+00],\n",
       "       [-4.78614223e-01, -5.79031312e-01,  7.41391331e-01],\n",
       "       [-3.40945413e-01, -1.61289943e-01, -2.33064636e-01],\n",
       "       [-3.58154014e-01, -4.92141107e-01, -3.11369133e-01],\n",
       "       [-4.44197020e-01,  4.92517074e-02,  1.17641632e+00],\n",
       "       [-3.06528210e-01, -4.28644419e-01, -4.85379127e-01],\n",
       "       [-2.72111008e-01, -4.95483038e-01, -1.11257640e-01],\n",
       "       [-3.75362615e-01, -6.49211862e-01, -2.33064636e-01],\n",
       "       [ 1.98221576e+00,  2.19477138e+00, -9.11703613e-01],\n",
       "       [-4.26988419e-01, -4.45354074e-01,  2.71640476e+00],\n",
       "       [ 2.70497701e+00,  2.82973826e+00, -1.15531760e+00]])"
      ]
     },
     "execution_count": 6,
     "metadata": {},
     "output_type": "execute_result"
    }
   ],
   "source": [
    "x_train_std"
   ]
  },
  {
   "cell_type": "markdown",
   "metadata": {},
   "source": [
    "<a id='part3'></a>\n",
    "## Calcula las matrices de dispersión\n"
   ]
  },
  {
   "cell_type": "markdown",
   "metadata": {},
   "source": [
    "Calcule los vectores medios para cada clase:"
   ]
  },
  {
   "cell_type": "code",
   "execution_count": 8,
   "metadata": {},
   "outputs": [
    {
     "name": "stdout",
     "output_type": "stream",
     "text": [
      "MV 1: [-0.45 -0.58 -0.09]\n",
      "\n",
      "MV 2: [-0.33 -0.07  0.82]\n",
      "\n",
      "MV 3: [ 1.66  1.74 -0.66]\n",
      "\n"
     ]
    }
   ],
   "source": [
    "import numpy as np\n",
    "np.set_printoptions(precision=2)\n",
    "\n",
    "mean_vecs = []\n",
    "for label in range(1,4):\n",
    "    mean_vecs.append(np.mean(x_train_std[y_train == label], axis=0))\n",
    "    print('MV %s: %s\\n' % (label, mean_vecs[label-1]))"
   ]
  },
  {
   "cell_type": "markdown",
   "metadata": {},
   "source": [
    "Calcular la matriz de dispersión dentro de la clase:"
   ]
  },
  {
   "cell_type": "code",
   "execution_count": 9,
   "metadata": {},
   "outputs": [
    {
     "name": "stdout",
     "output_type": "stream",
     "text": [
      "Within-class scatter matrix: 3x3\n"
     ]
    }
   ],
   "source": [
    "d = 3 # número de características\n",
    "S_W = np.zeros((d, d))\n",
    "for label, mv in zip(range(1, 4), mean_vecs):\n",
    "    class_scatter = np.zeros((d, d))  # matriz de dispersión para cada clase\n",
    "    for row in x_train_std[y_train == label]:\n",
    "        row, mv = row.reshape(d, 1), mv.reshape(d, 1)  # hacer vectores de columna\n",
    "        class_scatter += (row - mv).dot((row - mv).T)\n",
    "    S_W += class_scatter                          \n",
    "\n",
    "print('Within-class scatter matrix: %sx%s' % (S_W.shape[0], S_W.shape[1]))"
   ]
  },
  {
   "cell_type": "markdown",
   "metadata": {},
   "source": [
    "La suposición de lo que estamos haciendo cuando calculamos las matrices de disperción es que las etiquetas de clase en el conjunto de datos de entrenamiento estan distribuidas uniformemente. Sin embargo, si mostramos el número de etiquetas de clase, vemos que se ha incumplido dicha suposición:"
   ]
  },
  {
   "cell_type": "code",
   "execution_count": 10,
   "metadata": {},
   "outputs": [
    {
     "name": "stdout",
     "output_type": "stream",
     "text": [
      "Class label distribution: [46 18 16]\n"
     ]
    }
   ],
   "source": [
    "print('Class label distribution: %s' \n",
    "      % np.bincount(y_train)[1:])"
   ]
  },
  {
   "cell_type": "markdown",
   "metadata": {},
   "source": [
    "Por lo tanto, debemos escalar las matrices de disperción individuales $S_i$ antes de sumarlo como matriz de dispersión $S_w$"
   ]
  },
  {
   "cell_type": "code",
   "execution_count": 11,
   "metadata": {},
   "outputs": [
    {
     "name": "stdout",
     "output_type": "stream",
     "text": [
      "Scaled within-class scatter matrix: 3x3\n"
     ]
    }
   ],
   "source": [
    "d = 3  # número de caracterisicas.\n",
    "S_W = np.zeros((d, d))\n",
    "for label, mv in zip(range(1, 4), mean_vecs):\n",
    "    class_scatter = np.cov(x_train_std[y_train == label].T)\n",
    "    S_W += class_scatter\n",
    "print('Scaled within-class scatter matrix: %sx%s' % (S_W.shape[0],\n",
    "                                                     S_W.shape[1]))"
   ]
  },
  {
   "cell_type": "markdown",
   "metadata": {},
   "source": [
    "Calcular la matriz de dispersión entre clases $S_w$:"
   ]
  },
  {
   "cell_type": "code",
   "execution_count": 12,
   "metadata": {},
   "outputs": [
    {
     "name": "stdout",
     "output_type": "stream",
     "text": [
      "Between-class scatter matrix: 3x3\n"
     ]
    }
   ],
   "source": [
    "mean_overall = np.mean(x_train_std, axis=0)\n",
    "d = 3  # number of features\n",
    "S_B = np.zeros((d, d))\n",
    "for i, mean_vec in enumerate(mean_vecs):\n",
    "    n = x_train[y_train == i + 1, :].shape[0]\n",
    "    mean_vec = mean_vec.reshape(d, 1)  # make column vector\n",
    "    mean_overall = mean_overall.reshape(d, 1)  # make column vector\n",
    "    S_B += n * (mean_vec - mean_overall).dot((mean_vec - mean_overall).T)\n",
    "\n",
    "print('Between-class scatter matrix: %sx%s' % (S_B.shape[0], S_B.shape[1]))"
   ]
  },
  {
   "cell_type": "markdown",
   "metadata": {},
   "source": [
    "<br>\n",
    "<br>"
   ]
  },
  {
   "cell_type": "markdown",
   "metadata": {},
   "source": [
    "<a id='part4'></a>\n",
    "## Seleccionar discriminantes lineales para el nuevo subespacio de caracteristicas"
   ]
  },
  {
   "cell_type": "markdown",
   "metadata": {},
   "source": [
    "Resolver el problema generalizado del valor propio para la matriz $S_W^{-1}S_B$:"
   ]
  },
  {
   "cell_type": "code",
   "execution_count": 13,
   "metadata": {},
   "outputs": [],
   "source": [
    "eigen_vals, eigen_vecs = np.linalg.eig(np.linalg.inv(S_W).dot(S_B))"
   ]
  },
  {
   "cell_type": "markdown",
   "metadata": {},
   "source": [
    "**Note**:\n",
    "    \n",
    "Arriba, utilicé la función  [`numpy.linalg.eig`](http://docs.scipy.org/doc/numpy/reference/generated/numpy.linalg.eig.html) para descomponer la matriz de covarianza simétrica en sus autovalores y autovectores.\n",
    "    <pre>>>> eigen_vals, eigen_vecs = np.linalg.eig(cov_mat)</pre>\n",
    "    Esto no es realmente un \"error\", pero probablemente no es óptimo. Sería mejor utilizar  [`numpy.linalg.eigh`](http://docs.scipy.org/doc/numpy/reference/generated/numpy.linalg.eigh.html) en tales casos, que ha sido diseñado para [Hermetian matrices](https://en.wikipedia.org/wiki/Hermitian_matrix). Este último siempre devuelve valores propios; mientras que el numéricamente menos estable `np.linalg.eig` puede descomponer matrices cuadradas no simétricas, puede encontrar que devuelve valores propios complejos en ciertos casos. "
   ]
  },
  {
   "cell_type": "markdown",
   "metadata": {},
   "source": [
    "Ordenar los autovectores en orden descendente de los valores propios:"
   ]
  },
  {
   "cell_type": "code",
   "execution_count": 14,
   "metadata": {},
   "outputs": [
    {
     "name": "stdout",
     "output_type": "stream",
     "text": [
      "Eigenvalues in descending order:\n",
      "\n",
      "89.62439698615088\n",
      "9.910549154311862\n",
      "6.804621745817063e-14\n"
     ]
    }
   ],
   "source": [
    "# Make a list of (eigenvalue, eigenvector) tuples\n",
    "eigen_pairs = [(np.abs(eigen_vals[i]), eigen_vecs[:, i])\n",
    "               for i in range(len(eigen_vals))]\n",
    "\n",
    "# Sort the (eigenvalue, eigenvector) tuples from high to low\n",
    "eigen_pairs = sorted(eigen_pairs, key=lambda k: k[0], reverse=True)\n",
    "\n",
    "# Visually confirm that the list is correctly sorted by decreasing eigenvalues\n",
    "\n",
    "print('Eigenvalues in descending order:\\n')\n",
    "for eigen_val in eigen_pairs:\n",
    "    print(eigen_val[0])"
   ]
  },
  {
   "cell_type": "markdown",
   "metadata": {},
   "source": [
    "Para medir la cantidad de información discriminante de clase capturada por los discriminantes lineales(autovectores), vamos a representar gráficamente los discriminantes lineales reduciendo los autovalores. "
   ]
  },
  {
   "cell_type": "code",
   "execution_count": 16,
   "metadata": {},
   "outputs": [
    {
     "data": {
      "image/png": "[encoded data removed]",
      "text/plain": [
       "<Figure size 432x288 with 1 Axes>"
      ]
     },
     "metadata": {
      "needs_background": "light"
     },
     "output_type": "display_data"
    }
   ],
   "source": [
    "import matplotlib.pyplot as plt\n",
    "\n",
    "tot = sum(eigen_vals.real)\n",
    "discr = [(i / tot) for i in sorted(eigen_vals.real, reverse=True)]\n",
    "cum_discr = np.cumsum(discr)\n",
    "\n",
    "plt.bar(range(1, 4), discr, alpha=0.5, align='center',\n",
    "        label='individual \"discriminability\"')\n",
    "plt.step(range(1, 4), cum_discr, where='mid',\n",
    "         label='cumulative \"discriminability\"')\n",
    "plt.ylabel('\"discriminability\" ratio')\n",
    "plt.xlabel('Linear Discriminants')\n",
    "plt.ylim([-0.1, 1.1])\n",
    "plt.legend(loc='best')\n",
    "plt.tight_layout()\n",
    "# plt.savefig('images/05_07.png', dpi=300)\n",
    "plt.show()"
   ]
  },
  {
   "cell_type": "markdown",
   "metadata": {},
   "source": [
    "    *  Como podemos observar en la imagen, los dos primeros discriminantes linelaes capturan el 100% de la información util."
   ]
  },
  {
   "cell_type": "code",
   "execution_count": 18,
   "metadata": {},
   "outputs": [
    {
     "name": "stdout",
     "output_type": "stream",
     "text": [
      "Matrix W:\n",
      " [[ 0.48 -0.72]\n",
      " [-0.87  0.67]\n",
      " [-0.02  0.19]]\n"
     ]
    }
   ],
   "source": [
    "w = np.hstack((eigen_pairs[0][1][:, np.newaxis].real,\n",
    "              eigen_pairs[1][1][:, np.newaxis].real))\n",
    "print('Matrix W:\\n', w)"
   ]
  },
  {
   "cell_type": "markdown",
   "metadata": {},
   "source": [
    "<br>\n",
    "<br>"
   ]
  },
  {
   "cell_type": "markdown",
   "metadata": {},
   "source": [
    "<a id='part5'></a>\n",
    "## Proyección de muestras en el nuevo espacio de características"
   ]
  },
  {
   "cell_type": "markdown",
   "metadata": {},
   "source": [
    "Mediante la matriz de transformación **W** creada en la sección anterior, podemos transformar ahora el conjunto de datos de entrenamiento multiplicando las matrices.  "
   ]
  },
  {
   "cell_type": "code",
   "execution_count": 19,
   "metadata": {},
   "outputs": [
    {
     "data": {
      "text/plain": [
       "array([[-7.46e-02,  3.31e-01],\n",
       "       [ 3.32e-01, -9.28e-02],\n",
       "       [-2.35e-01,  1.10e+00],\n",
       "       [-3.23e-01,  4.44e-01],\n",
       "       [ 1.75e-01,  5.77e-02],\n",
       "       [-1.39e+00, -1.06e-01],\n",
       "       [-3.65e-01,  3.64e-01],\n",
       "       [ 2.63e-01, -6.72e-04],\n",
       "       [ 9.38e-02,  1.48e-01],\n",
       "       [ 2.57e-01, -4.09e-02],\n",
       "       [ 3.31e-01, -1.29e-01],\n",
       "       [ 4.31e-01, -1.15e-01],\n",
       "       [ 1.62e-01,  3.51e-02],\n",
       "       [ 2.89e-01, -1.75e-01],\n",
       "       [ 3.87e-01, -1.10e-01],\n",
       "       [ 1.38e-03,  3.59e-01],\n",
       "       [-6.91e-01,  2.43e-01],\n",
       "       [ 4.21e-01, -1.45e-01],\n",
       "       [ 2.30e-01,  2.13e-04],\n",
       "       [-8.84e-01, -6.47e-01],\n",
       "       [ 4.13e-02,  1.74e-02],\n",
       "       [ 4.31e-02,  5.35e-02],\n",
       "       [ 2.99e-03,  2.79e-01],\n",
       "       [ 2.33e-01, -2.22e-01],\n",
       "       [-1.06e-01,  6.30e-01],\n",
       "       [-5.72e-01, -1.37e-01],\n",
       "       [ 2.18e-01,  1.71e-01],\n",
       "       [ 7.06e-02,  2.11e-01],\n",
       "       [-4.22e-01, -1.26e-01],\n",
       "       [ 4.47e-02,  8.10e-02],\n",
       "       [ 1.42e-01, -5.09e-02],\n",
       "       [ 4.04e-01, -2.50e-01],\n",
       "       [-2.99e-01, -5.17e-02],\n",
       "       [ 2.08e-01, -5.60e-02],\n",
       "       [-5.79e-01, -5.05e-01],\n",
       "       [ 2.90e-01, -2.27e-01],\n",
       "       [ 2.75e-02,  1.22e-01],\n",
       "       [ 3.60e-01, -1.01e-01],\n",
       "       [ 2.57e-01,  6.50e-03],\n",
       "       [ 2.62e-01, -7.13e-02],\n",
       "       [-1.79e-01,  2.55e-01],\n",
       "       [ 2.46e-01, -6.07e-02],\n",
       "       [ 2.71e-01, -9.12e-02],\n",
       "       [ 2.36e-01, -1.21e-01],\n",
       "       [-1.35e-01,  1.03e-01],\n",
       "       [ 3.06e-01, -1.51e-01],\n",
       "       [ 3.11e-01, -1.69e-01],\n",
       "       [ 5.06e-01, -3.34e-01],\n",
       "       [-4.65e-01,  2.98e-01],\n",
       "       [ 2.63e-01, -6.72e-04],\n",
       "       [ 3.65e-01, -1.04e-01],\n",
       "       [-6.43e-02,  3.64e-01],\n",
       "       [-6.87e-01, -4.89e-02],\n",
       "       [ 3.26e-01, -2.19e-01],\n",
       "       [ 4.28e-01, -1.40e-01],\n",
       "       [-5.50e-01, -1.17e+00],\n",
       "       [ 3.16e-01, -1.28e-01],\n",
       "       [-1.24e+00, -4.04e-01],\n",
       "       [ 3.48e-01, -7.70e-02],\n",
       "       [ 1.54e-01,  1.26e-01],\n",
       "       [-4.97e-01,  4.20e-01],\n",
       "       [ 5.02e-01, -3.69e-01],\n",
       "       [ 3.84e-01, -2.82e-01],\n",
       "       [ 1.34e-01, -7.75e-03],\n",
       "       [-3.58e-01,  5.04e-01],\n",
       "       [ 4.42e-01, -1.91e-01],\n",
       "       [-1.47e-01,  8.75e-02],\n",
       "       [-6.42e-01, -3.11e-01],\n",
       "       [ 4.09e-01, -2.10e-01],\n",
       "       [-2.21e-01,  9.02e-01],\n",
       "       [ 2.62e-01,  9.87e-02],\n",
       "       [-2.02e-02,  9.31e-02],\n",
       "       [ 2.62e-01, -1.30e-01],\n",
       "       [-2.78e-01,  5.76e-01],\n",
       "       [ 2.35e-01, -1.58e-01],\n",
       "       [ 3.03e-01, -1.56e-01],\n",
       "       [ 3.90e-01, -2.08e-01],\n",
       "       [-9.43e-01, -1.33e-01],\n",
       "       [ 1.36e-01,  5.27e-01],\n",
       "       [-1.14e+00, -2.76e-01]])"
      ]
     },
     "execution_count": 19,
     "metadata": {},
     "output_type": "execute_result"
    }
   ],
   "source": [
    "X_train_lda = x_train_std.dot(w)\n",
    "X_train_lda"
   ]
  },
  {
   "cell_type": "code",
   "execution_count": 37,
   "metadata": {},
   "outputs": [
    {
     "data": {
      "image/png": "[encoded data removed]",
      "text/plain": [
       "<Figure size 432x288 with 1 Axes>"
      ]
     },
     "metadata": {
      "needs_background": "light"
     },
     "output_type": "display_data"
    }
   ],
   "source": [
    "\n",
    "colors = ['r', 'b']\n",
    "markers = ['s', 'x']\n",
    "\n",
    "colors = ['r', 'b', 'g']\n",
    "markers = ['s', 'x', 'o']\n",
    "\n",
    "for l, c, m in zip(np.unique(y_train), colors, markers):\n",
    "    plt.scatter(X_train_lda[y_train == l, 0],\n",
    "                X_train_lda[y_train == l, 1] * (-1),\n",
    "                c=c, label=l, marker=m)\n",
    "\n",
    "plt.xlabel('LD 1')\n",
    "plt.ylabel('LD 2')\n",
    "plt.legend(loc='lower right')\n",
    "plt.tight_layout()\n",
    "# plt.savefig('images/05_08.png', dpi=300)\n",
    "plt.show()"
   ]
  },
  {
   "cell_type": "markdown",
   "metadata": {},
   "source": [
    "    * Como podemos ver en el diagrama resultante, la data puede ser separadas linealmente a la perfección en 3 clases a 2, en el nuevo subespacio de caracteristicas."
   ]
  },
  {
   "cell_type": "markdown",
   "metadata": {},
   "source": [
    "<br>\n",
    "<br>"
   ]
  }
 ],
 "metadata": {
  "anaconda-cloud": {},
  "kernelspec": {
   "display_name": "Python 3",
   "language": "python",
   "name": "python3"
  },
  "language_info": {
   "codemirror_mode": {
    "name": "ipython",
    "version": 3
   },
   "file_extension": ".py",
   "mimetype": "text/x-python",
   "name": "python",
   "nbconvert_exporter": "python",
   "pygments_lexer": "ipython3",
   "version": "3.8.3"
  }
 },
 "nbformat": 4,
 "nbformat_minor": 1
}
