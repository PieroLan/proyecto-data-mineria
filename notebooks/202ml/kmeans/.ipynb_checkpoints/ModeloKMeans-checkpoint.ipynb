{
 "cells": [
  {
   "cell_type": "code",
   "execution_count": 1,
   "metadata": {},
   "outputs": [],
   "source": [
    "import numpy as np\n",
    "import pandas as pd\n",
    "import matplotlib.pyplot as plt\n",
    "import seaborn as s"
   ]
  },
  {
   "cell_type": "code",
   "execution_count": 3,
   "metadata": {},
   "outputs": [
    {
     "name": "stdout",
     "output_type": "stream",
     "text": [
      "dfo Shape: (140, 8)\n"
     ]
    },
    {
     "data": {
      "text/html": [
       "<div>\n",
       "<style scoped>\n",
       "    .dataframe tbody tr th:only-of-type {\n",
       "        vertical-align: middle;\n",
       "    }\n",
       "\n",
       "    .dataframe tbody tr th {\n",
       "        vertical-align: top;\n",
       "    }\n",
       "\n",
       "    .dataframe thead th {\n",
       "        text-align: right;\n",
       "    }\n",
       "</style>\n",
       "<table border=\"1\" class=\"dataframe\">\n",
       "  <thead>\n",
       "    <tr style=\"text-align: right;\">\n",
       "      <th></th>\n",
       "      <th>usuario</th>\n",
       "      <th>op</th>\n",
       "      <th>co</th>\n",
       "      <th>ex</th>\n",
       "      <th>ag</th>\n",
       "      <th>ne</th>\n",
       "      <th>wordcount</th>\n",
       "      <th>categoria</th>\n",
       "    </tr>\n",
       "  </thead>\n",
       "  <tbody>\n",
       "    <tr>\n",
       "      <th>0</th>\n",
       "      <td>3gerardpique</td>\n",
       "      <td>34.297953</td>\n",
       "      <td>28.148819</td>\n",
       "      <td>41.948819</td>\n",
       "      <td>29.370315</td>\n",
       "      <td>9.841575</td>\n",
       "      <td>37.0945</td>\n",
       "      <td>7</td>\n",
       "    </tr>\n",
       "    <tr>\n",
       "      <th>1</th>\n",
       "      <td>aguerosergiokun</td>\n",
       "      <td>44.986842</td>\n",
       "      <td>20.525865</td>\n",
       "      <td>37.938947</td>\n",
       "      <td>24.279098</td>\n",
       "      <td>10.362406</td>\n",
       "      <td>78.7970</td>\n",
       "      <td>7</td>\n",
       "    </tr>\n",
       "    <tr>\n",
       "      <th>2</th>\n",
       "      <td>albertochicote</td>\n",
       "      <td>41.733854</td>\n",
       "      <td>13.745417</td>\n",
       "      <td>38.999896</td>\n",
       "      <td>34.645521</td>\n",
       "      <td>8.836979</td>\n",
       "      <td>49.2604</td>\n",
       "      <td>4</td>\n",
       "    </tr>\n",
       "  </tbody>\n",
       "</table>\n",
       "</div>"
      ],
      "text/plain": [
       "           usuario         op         co         ex         ag         ne  \\\n",
       "0     3gerardpique  34.297953  28.148819  41.948819  29.370315   9.841575   \n",
       "1  aguerosergiokun  44.986842  20.525865  37.938947  24.279098  10.362406   \n",
       "2   albertochicote  41.733854  13.745417  38.999896  34.645521   8.836979   \n",
       "\n",
       "   wordcount  categoria  \n",
       "0    37.0945          7  \n",
       "1    78.7970          7  \n",
       "2    49.2604          4  "
      ]
     },
     "execution_count": 3,
     "metadata": {},
     "output_type": "execute_result"
    }
   ],
   "source": [
    "missing_values = ['NA','na','--','?','-','None','none','non','nil','NaN']\n",
    "#dfo = pd.read_excel('./datos/diabetes_py.xlsx',sheet_name='diabetes_python.xlsx', na_values=missing_values, encoding = \"ISO-8859-1\")\n",
    "dfo = pd.read_csv('analisis.csv', na_values=missing_values, encoding = \"ISO-8859-1\", sep=',') \n",
    "#bu = pd.read_excel('./datos/diabetes_py.xlsx')\n",
    "print('dfo Shape:',dfo.shape)\n",
    "#dfo.head()\n",
    "dfo.head(3)\n",
    "#dfo.columns"
   ]
  },
  {
   "cell_type": "code",
   "execution_count": 4,
   "metadata": {},
   "outputs": [
    {
     "data": {
      "text/html": [
       "<div>\n",
       "<style scoped>\n",
       "    .dataframe tbody tr th:only-of-type {\n",
       "        vertical-align: middle;\n",
       "    }\n",
       "\n",
       "    .dataframe tbody tr th {\n",
       "        vertical-align: top;\n",
       "    }\n",
       "\n",
       "    .dataframe thead th {\n",
       "        text-align: right;\n",
       "    }\n",
       "</style>\n",
       "<table border=\"1\" class=\"dataframe\">\n",
       "  <thead>\n",
       "    <tr style=\"text-align: right;\">\n",
       "      <th></th>\n",
       "      <th>op</th>\n",
       "      <th>co</th>\n",
       "      <th>ex</th>\n",
       "      <th>ag</th>\n",
       "      <th>ne</th>\n",
       "      <th>wordcount</th>\n",
       "      <th>categoria</th>\n",
       "    </tr>\n",
       "  </thead>\n",
       "  <tbody>\n",
       "    <tr>\n",
       "      <th>count</th>\n",
       "      <td>140.000000</td>\n",
       "      <td>140.000000</td>\n",
       "      <td>140.000000</td>\n",
       "      <td>140.000000</td>\n",
       "      <td>140.000000</td>\n",
       "      <td>140.000000</td>\n",
       "      <td>140.000000</td>\n",
       "    </tr>\n",
       "    <tr>\n",
       "      <th>mean</th>\n",
       "      <td>44.414591</td>\n",
       "      <td>22.977135</td>\n",
       "      <td>40.764428</td>\n",
       "      <td>22.918528</td>\n",
       "      <td>8.000098</td>\n",
       "      <td>98.715484</td>\n",
       "      <td>4.050000</td>\n",
       "    </tr>\n",
       "    <tr>\n",
       "      <th>std</th>\n",
       "      <td>8.425723</td>\n",
       "      <td>5.816851</td>\n",
       "      <td>7.185246</td>\n",
       "      <td>7.657122</td>\n",
       "      <td>3.039248</td>\n",
       "      <td>44.714071</td>\n",
       "      <td>2.658839</td>\n",
       "    </tr>\n",
       "    <tr>\n",
       "      <th>min</th>\n",
       "      <td>30.020465</td>\n",
       "      <td>7.852756</td>\n",
       "      <td>18.693542</td>\n",
       "      <td>9.305985</td>\n",
       "      <td>1.030213</td>\n",
       "      <td>5.020800</td>\n",
       "      <td>1.000000</td>\n",
       "    </tr>\n",
       "    <tr>\n",
       "      <th>25%</th>\n",
       "      <td>38.206484</td>\n",
       "      <td>19.740299</td>\n",
       "      <td>36.095722</td>\n",
       "      <td>17.050993</td>\n",
       "      <td>6.086144</td>\n",
       "      <td>66.218475</td>\n",
       "      <td>2.000000</td>\n",
       "    </tr>\n",
       "    <tr>\n",
       "      <th>50%</th>\n",
       "      <td>44.507091</td>\n",
       "      <td>22.466718</td>\n",
       "      <td>41.457492</td>\n",
       "      <td>21.384554</td>\n",
       "      <td>7.839722</td>\n",
       "      <td>94.711400</td>\n",
       "      <td>3.500000</td>\n",
       "    </tr>\n",
       "    <tr>\n",
       "      <th>75%</th>\n",
       "      <td>49.365923</td>\n",
       "      <td>26.091606</td>\n",
       "      <td>45.197769</td>\n",
       "      <td>28.678867</td>\n",
       "      <td>9.758189</td>\n",
       "      <td>119.707925</td>\n",
       "      <td>7.000000</td>\n",
       "    </tr>\n",
       "    <tr>\n",
       "      <th>max</th>\n",
       "      <td>71.696129</td>\n",
       "      <td>49.637863</td>\n",
       "      <td>59.824844</td>\n",
       "      <td>40.583162</td>\n",
       "      <td>23.978462</td>\n",
       "      <td>217.183200</td>\n",
       "      <td>9.000000</td>\n",
       "    </tr>\n",
       "  </tbody>\n",
       "</table>\n",
       "</div>"
      ],
      "text/plain": [
       "               op          co          ex          ag          ne   wordcount  \\\n",
       "count  140.000000  140.000000  140.000000  140.000000  140.000000  140.000000   \n",
       "mean    44.414591   22.977135   40.764428   22.918528    8.000098   98.715484   \n",
       "std      8.425723    5.816851    7.185246    7.657122    3.039248   44.714071   \n",
       "min     30.020465    7.852756   18.693542    9.305985    1.030213    5.020800   \n",
       "25%     38.206484   19.740299   36.095722   17.050993    6.086144   66.218475   \n",
       "50%     44.507091   22.466718   41.457492   21.384554    7.839722   94.711400   \n",
       "75%     49.365923   26.091606   45.197769   28.678867    9.758189  119.707925   \n",
       "max     71.696129   49.637863   59.824844   40.583162   23.978462  217.183200   \n",
       "\n",
       "        categoria  \n",
       "count  140.000000  \n",
       "mean     4.050000  \n",
       "std      2.658839  \n",
       "min      1.000000  \n",
       "25%      2.000000  \n",
       "50%      3.500000  \n",
       "75%      7.000000  \n",
       "max      9.000000  "
      ]
     },
     "execution_count": 4,
     "metadata": {},
     "output_type": "execute_result"
    }
   ],
   "source": [
    "dfo.describe()"
   ]
  },
  {
   "cell_type": "code",
   "execution_count": 5,
   "metadata": {},
   "outputs": [
    {
     "data": {
      "text/plain": [
       "Index(['usuario', 'op', 'co', 'ex', 'ag', 'ne', 'wordcount', 'categoria'], dtype='object')"
      ]
     },
     "execution_count": 5,
     "metadata": {},
     "output_type": "execute_result"
    }
   ],
   "source": [
    "dfo.columns"
   ]
  },
  {
   "cell_type": "code",
   "execution_count": 6,
   "metadata": {},
   "outputs": [
    {
     "name": "stdout",
     "output_type": "stream",
     "text": [
      "df shape: (140, 7)\n"
     ]
    },
    {
     "data": {
      "text/html": [
       "<div>\n",
       "<style scoped>\n",
       "    .dataframe tbody tr th:only-of-type {\n",
       "        vertical-align: middle;\n",
       "    }\n",
       "\n",
       "    .dataframe tbody tr th {\n",
       "        vertical-align: top;\n",
       "    }\n",
       "\n",
       "    .dataframe thead th {\n",
       "        text-align: right;\n",
       "    }\n",
       "</style>\n",
       "<table border=\"1\" class=\"dataframe\">\n",
       "  <thead>\n",
       "    <tr style=\"text-align: right;\">\n",
       "      <th></th>\n",
       "      <th>op</th>\n",
       "      <th>co</th>\n",
       "      <th>ex</th>\n",
       "      <th>ag</th>\n",
       "      <th>ne</th>\n",
       "      <th>wordcount</th>\n",
       "      <th>categoria</th>\n",
       "    </tr>\n",
       "  </thead>\n",
       "  <tbody>\n",
       "    <tr>\n",
       "      <th>0</th>\n",
       "      <td>34.297953</td>\n",
       "      <td>28.148819</td>\n",
       "      <td>41.948819</td>\n",
       "      <td>29.370315</td>\n",
       "      <td>9.841575</td>\n",
       "      <td>37.0945</td>\n",
       "      <td>7</td>\n",
       "    </tr>\n",
       "    <tr>\n",
       "      <th>1</th>\n",
       "      <td>44.986842</td>\n",
       "      <td>20.525865</td>\n",
       "      <td>37.938947</td>\n",
       "      <td>24.279098</td>\n",
       "      <td>10.362406</td>\n",
       "      <td>78.7970</td>\n",
       "      <td>7</td>\n",
       "    </tr>\n",
       "    <tr>\n",
       "      <th>2</th>\n",
       "      <td>41.733854</td>\n",
       "      <td>13.745417</td>\n",
       "      <td>38.999896</td>\n",
       "      <td>34.645521</td>\n",
       "      <td>8.836979</td>\n",
       "      <td>49.2604</td>\n",
       "      <td>4</td>\n",
       "    </tr>\n",
       "    <tr>\n",
       "      <th>3</th>\n",
       "      <td>40.377154</td>\n",
       "      <td>15.377462</td>\n",
       "      <td>52.337538</td>\n",
       "      <td>31.082154</td>\n",
       "      <td>5.032231</td>\n",
       "      <td>80.4538</td>\n",
       "      <td>2</td>\n",
       "    </tr>\n",
       "    <tr>\n",
       "      <th>4</th>\n",
       "      <td>36.664677</td>\n",
       "      <td>19.642258</td>\n",
       "      <td>48.530806</td>\n",
       "      <td>31.138871</td>\n",
       "      <td>7.305968</td>\n",
       "      <td>47.0645</td>\n",
       "      <td>4</td>\n",
       "    </tr>\n",
       "  </tbody>\n",
       "</table>\n",
       "</div>"
      ],
      "text/plain": [
       "          op         co         ex         ag         ne  wordcount  categoria\n",
       "0  34.297953  28.148819  41.948819  29.370315   9.841575    37.0945          7\n",
       "1  44.986842  20.525865  37.938947  24.279098  10.362406    78.7970          7\n",
       "2  41.733854  13.745417  38.999896  34.645521   8.836979    49.2604          4\n",
       "3  40.377154  15.377462  52.337538  31.082154   5.032231    80.4538          2\n",
       "4  36.664677  19.642258  48.530806  31.138871   7.305968    47.0645          4"
      ]
     },
     "execution_count": 6,
     "metadata": {},
     "output_type": "execute_result"
    }
   ],
   "source": [
    "cols = ['op', 'co', 'ex', 'ag', 'ne', 'wordcount', 'categoria']\n",
    "\n",
    "df = dfo[cols]\n",
    "\n",
    "print('df shape:',df.shape)\n",
    "df.head()"
   ]
  },
  {
   "cell_type": "code",
   "execution_count": 7,
   "metadata": {},
   "outputs": [
    {
     "data": {
      "text/plain": [
       "op           0.0\n",
       "co           0.0\n",
       "ex           0.0\n",
       "ag           0.0\n",
       "ne           0.0\n",
       "wordcount    0.0\n",
       "categoria    0.0\n",
       "dtype: float64"
      ]
     },
     "execution_count": 7,
     "metadata": {},
     "output_type": "execute_result"
    }
   ],
   "source": [
    "#porcentaje de valores null por columna\n",
    "(df.isnull().sum() / len(df))*100"
   ]
  },
  {
   "cell_type": "code",
   "execution_count": 10,
   "metadata": {},
   "outputs": [
    {
     "data": {
      "text/plain": [
       "(140, 7)"
      ]
     },
     "execution_count": 10,
     "metadata": {},
     "output_type": "execute_result"
    }
   ],
   "source": [
    "#from sklearn.model_selection import train_test_split\n",
    "X = np.array(df[cols])\n",
    "#y = np.array(df['categoria'])\n",
    "X.shape"
   ]
  },
  {
   "cell_type": "markdown",
   "metadata": {},
   "source": [
    "Buscamos el valor K\n"
   ]
  },
  {
   "cell_type": "code",
   "execution_count": 11,
   "metadata": {},
   "outputs": [],
   "source": [
    "from sklearn.cluster import KMeans\n",
    "from sklearn.metrics import pairwise_distances_argmin_min"
   ]
  },
  {
   "cell_type": "code",
   "execution_count": 12,
   "metadata": {},
   "outputs": [
    {
     "data": {
      "image/png": "[encoded data removed]",
      "text/plain": [
       "<Figure size 432x288 with 1 Axes>"
      ]
     },
     "metadata": {
      "needs_background": "light"
     },
     "output_type": "display_data"
    }
   ],
   "source": [
    "Nc = range(1, 10)\n",
    "kmeans = [KMeans(n_clusters=i) for i in Nc]\n",
    "kmeans\n",
    "score = [kmeans[i].fit(X).score(X) for i in range(len(kmeans))]\n",
    "score\n",
    "plt.plot(Nc,score)\n",
    "plt.xlabel('Number of Clusters')\n",
    "plt.ylabel('Score')\n",
    "plt.title('Elbow Curve')\n",
    "plt.show()"
   ]
  },
  {
   "cell_type": "code",
   "execution_count": 13,
   "metadata": {},
   "outputs": [
    {
     "name": "stdout",
     "output_type": "stream",
     "text": [
      "[[ 48.90953298  24.85611376  38.6480478   18.73021569   7.85092655\n",
      "  107.23497059   2.84313725]\n",
      " [ 42.02802267  27.42770708  36.88980575  20.97684308  10.095242\n",
      "  189.56625833   5.41666667]\n",
      " [ 40.07291989  20.42464919  42.44236489  28.37220063   7.76412119\n",
      "   40.44572593   4.66666667]\n",
      " [ 49.83898738  23.77663325  37.10270906  18.94541788   7.64712581\n",
      "  152.0215375    3.1875    ]\n",
      " [ 39.40963635  20.23861759  45.69719435  27.425138     7.83788953\n",
      "   75.05911471   5.29411765]]\n"
     ]
    }
   ],
   "source": [
    "# Para el ejercicio, elijo 5 como un buen valor de K. Pero podría ser otro.\n",
    "kmeans = KMeans(n_clusters=5).fit(X)\n",
    "centroids = kmeans.cluster_centers_\n",
    "print(centroids)"
   ]
  },
  {
   "cell_type": "code",
   "execution_count": 14,
   "metadata": {},
   "outputs": [
    {
     "data": {
      "text/html": [
       "<div>\n",
       "<style scoped>\n",
       "    .dataframe tbody tr th:only-of-type {\n",
       "        vertical-align: middle;\n",
       "    }\n",
       "\n",
       "    .dataframe tbody tr th {\n",
       "        vertical-align: top;\n",
       "    }\n",
       "\n",
       "    .dataframe thead tr th {\n",
       "        text-align: left;\n",
       "    }\n",
       "\n",
       "    .dataframe thead tr:last-of-type th {\n",
       "        text-align: right;\n",
       "    }\n",
       "</style>\n",
       "<table border=\"1\" class=\"dataframe\">\n",
       "  <thead>\n",
       "    <tr>\n",
       "      <th></th>\n",
       "      <th colspan=\"5\" halign=\"left\">Cluster #</th>\n",
       "    </tr>\n",
       "    <tr>\n",
       "      <th></th>\n",
       "      <th>0</th>\n",
       "      <th>1</th>\n",
       "      <th>2</th>\n",
       "      <th>3</th>\n",
       "      <th>4</th>\n",
       "    </tr>\n",
       "    <tr>\n",
       "      <th>Attribute</th>\n",
       "      <th></th>\n",
       "      <th></th>\n",
       "      <th></th>\n",
       "      <th></th>\n",
       "      <th></th>\n",
       "    </tr>\n",
       "  </thead>\n",
       "  <tbody>\n",
       "    <tr>\n",
       "      <th>op</th>\n",
       "      <td>48.909533</td>\n",
       "      <td>42.028023</td>\n",
       "      <td>40.072920</td>\n",
       "      <td>49.838987</td>\n",
       "      <td>39.409636</td>\n",
       "    </tr>\n",
       "    <tr>\n",
       "      <th>co</th>\n",
       "      <td>24.856114</td>\n",
       "      <td>27.427707</td>\n",
       "      <td>20.424649</td>\n",
       "      <td>23.776633</td>\n",
       "      <td>20.238618</td>\n",
       "    </tr>\n",
       "    <tr>\n",
       "      <th>ex</th>\n",
       "      <td>38.648048</td>\n",
       "      <td>36.889806</td>\n",
       "      <td>42.442365</td>\n",
       "      <td>37.102709</td>\n",
       "      <td>45.697194</td>\n",
       "    </tr>\n",
       "    <tr>\n",
       "      <th>ag</th>\n",
       "      <td>18.730216</td>\n",
       "      <td>20.976843</td>\n",
       "      <td>28.372201</td>\n",
       "      <td>18.945418</td>\n",
       "      <td>27.425138</td>\n",
       "    </tr>\n",
       "    <tr>\n",
       "      <th>ne</th>\n",
       "      <td>7.850927</td>\n",
       "      <td>10.095242</td>\n",
       "      <td>7.764121</td>\n",
       "      <td>7.647126</td>\n",
       "      <td>7.837890</td>\n",
       "    </tr>\n",
       "    <tr>\n",
       "      <th>wordcount</th>\n",
       "      <td>107.234971</td>\n",
       "      <td>189.566258</td>\n",
       "      <td>40.445726</td>\n",
       "      <td>152.021537</td>\n",
       "      <td>75.059115</td>\n",
       "    </tr>\n",
       "    <tr>\n",
       "      <th>categoria</th>\n",
       "      <td>2.843137</td>\n",
       "      <td>5.416667</td>\n",
       "      <td>4.666667</td>\n",
       "      <td>3.187500</td>\n",
       "      <td>5.294118</td>\n",
       "    </tr>\n",
       "  </tbody>\n",
       "</table>\n",
       "</div>"
      ],
      "text/plain": [
       "            Cluster #                                              \n",
       "                    0           1          2           3          4\n",
       "Attribute                                                          \n",
       "op          48.909533   42.028023  40.072920   49.838987  39.409636\n",
       "co          24.856114   27.427707  20.424649   23.776633  20.238618\n",
       "ex          38.648048   36.889806  42.442365   37.102709  45.697194\n",
       "ag          18.730216   20.976843  28.372201   18.945418  27.425138\n",
       "ne           7.850927   10.095242   7.764121    7.647126   7.837890\n",
       "wordcount  107.234971  189.566258  40.445726  152.021537  75.059115\n",
       "categoria    2.843137    5.416667   4.666667    3.187500   5.294118"
      ]
     },
     "execution_count": 14,
     "metadata": {},
     "output_type": "execute_result"
    }
   ],
   "source": [
    "import pandas as pd\n",
    "centersdf = pd.DataFrame(data=centroids, columns=cols)\n",
    "centersdf_transposed = centersdf.T\n",
    "centersdf_transposed.columns = pd.MultiIndex.from_arrays([['Cluster #']*len(centersdf_transposed.columns), centersdf_transposed.columns])\n",
    "centersdf_transposed.index.names = ['Attribute']\n",
    "centersdf_transposed"
   ]
  },
  {
   "cell_type": "markdown",
   "metadata": {},
   "source": [
    "Cluster #\t\t\t\t\t\n",
    "\t0\t1\t2\t3\t4\n",
    "Attribute\t\t\t\t\t\n",
    "op\t\t\t\t49.838987\t\n",
    "co\t\t27.427707\t\t\t\n",
    "ex\t\t\t\t\t45.697194\n",
    "ag\t\t\t28.372201\t\t\n",
    "ne\t\t10.095242\t\t\t\n",
    "wordcount\t\t189.566258\t\t\t\n",
    "categoria\t\t5.416667\t\t\t\n",
    "In [ ]:\t3\t5\t5\t3\t5\n"
   ]
  },
  {
   "cell_type": "code",
   "execution_count": 15,
   "metadata": {},
   "outputs": [
    {
     "data": {
      "text/plain": [
       "array([ 29,  58,  42,  39, 107])"
      ]
     },
     "execution_count": 15,
     "metadata": {},
     "output_type": "execute_result"
    }
   ],
   "source": [
    "#vemos el representante del grupo, el usuario cercano a su centroid\n",
    "#posicion en el dataset\n",
    "closest, _ = pairwise_distances_argmin_min(kmeans.cluster_centers_, X)\n",
    "closest"
   ]
  },
  {
   "cell_type": "code",
   "execution_count": 16,
   "metadata": {},
   "outputs": [
    {
     "name": "stdout",
     "output_type": "stream",
     "text": [
      "CindyCrawford\n",
      "HerreraBeutler\n",
      "edans\n",
      "Diane_Keaton\n",
      "Pablo_Iglesias_\n"
     ]
    }
   ],
   "source": [
    "users=dfo['usuario'].values\n",
    "for row in closest:\n",
    "    print(users[row])"
   ]
  },
  {
   "cell_type": "code",
   "execution_count": 20,
   "metadata": {},
   "outputs": [
    {
     "name": "stdout",
     "output_type": "stream",
     "text": [
      "['CindyCrawford' 3]\n",
      "['HerreraBeutler' 8]\n",
      "['edans' 6]\n",
      "['Diane_Keaton' 1]\n",
      "['Pablo_Iglesias_' 8]\n"
     ]
    }
   ],
   "source": [
    "frms=dfo[['usuario','categoria']].values\n",
    "for row in closest:\n",
    "    print(frms[row])"
   ]
  },
  {
   "cell_type": "markdown",
   "metadata": {},
   "source": [
    "**1 Actor/actriz\n",
    "\n",
    "2 Cantante\n",
    "**3 Modelo\n",
    "\n",
    "4 Tv, series\n",
    "5 Radio\n",
    "**6 Tecnología\n",
    "\n",
    "7 Deportes\n",
    "**8 Politica\n",
    "\n",
    "9 Escritor"
   ]
  },
  {
   "cell_type": "markdown",
   "metadata": {},
   "source": [
    "En los centros vemos que tenemos una Modelo, dos Político, uno de Tecnología o y un Actor/actriz."
   ]
  },
  {
   "cell_type": "code",
   "execution_count": null,
   "metadata": {},
   "outputs": [],
   "source": []
  }
 ],
 "metadata": {
  "kernelspec": {
   "display_name": "Python 3",
   "language": "python",
   "name": "python3"
  },
  "language_info": {
   "codemirror_mode": {
    "name": "ipython",
    "version": 3
   },
   "file_extension": ".py",
   "mimetype": "text/x-python",
   "name": "python",
   "nbconvert_exporter": "python",
   "pygments_lexer": "ipython3",
   "version": "3.8.3"
  }
 },
 "nbformat": 4,
 "nbformat_minor": 4
}
